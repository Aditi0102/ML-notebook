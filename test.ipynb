{
 "metadata": {
  "language_info": {
   "codemirror_mode": {
    "name": "ipython",
    "version": 3
   },
   "file_extension": ".py",
   "mimetype": "text/x-python",
   "name": "python",
   "nbconvert_exporter": "python",
   "pygments_lexer": "ipython3",
   "version": "3.8.5-final"
  },
  "orig_nbformat": 2,
  "kernelspec": {
   "name": "python38564bit3f83f4ec2fc1440cb92bd9e85b72ca02",
   "display_name": "Python 3.8.5 64-bit",
   "language": "python"
  }
 },
 "nbformat": 4,
 "nbformat_minor": 2,
 "cells": [
  {
   "cell_type": "code",
   "execution_count": 1,
   "metadata": {},
   "outputs": [],
   "source": [
    "import tensorflow as tf\n",
    "from tensorflow import keras"
   ]
  },
  {
   "cell_type": "code",
   "execution_count": 2,
   "metadata": {},
   "outputs": [],
   "source": [
    "model = keras.models.load_model('./Trained Models/m3.h5')\n",
    "# url = '/home/avishrant/Downloads/test2.mp4'\n",
    "#url = './Testing/test2.mp4'"
   ]
  },
  {
   "cell_type": "code",
   "execution_count": 3,
   "metadata": {},
   "outputs": [
    {
     "output_type": "stream",
     "name": "stdout",
     "text": [
      "Model: \"sequential\"\n_________________________________________________________________\nLayer (type)                 Output Shape              Param #   \n=================================================================\nconv2d (Conv2D)              (None, 62, 62, 32)        896       \n_________________________________________________________________\nmax_pooling2d (MaxPooling2D) (None, 31, 31, 32)        0         \n_________________________________________________________________\nconv2d_1 (Conv2D)            (None, 29, 29, 64)        18496     \n_________________________________________________________________\nmax_pooling2d_1 (MaxPooling2 (None, 14, 14, 64)        0         \n_________________________________________________________________\nconv2d_2 (Conv2D)            (None, 12, 12, 128)       73856     \n_________________________________________________________________\nmax_pooling2d_2 (MaxPooling2 (None, 6, 6, 128)         0         \n_________________________________________________________________\nconv2d_3 (Conv2D)            (None, 4, 4, 128)         147584    \n_________________________________________________________________\nmax_pooling2d_3 (MaxPooling2 (None, 2, 2, 128)         0         \n_________________________________________________________________\ndropout (Dropout)            (None, 2, 2, 128)         0         \n_________________________________________________________________\nflatten (Flatten)            (None, 512)               0         \n_________________________________________________________________\ndense (Dense)                (None, 512)               262656    \n_________________________________________________________________\ndense_1 (Dense)              (None, 1)                 513       \n=================================================================\nTotal params: 504,001\nTrainable params: 504,001\nNon-trainable params: 0\n_________________________________________________________________\n"
     ]
    }
   ],
   "source": [
    "model.summary()"
   ]
  },
  {
   "cell_type": "code",
   "execution_count": 4,
   "metadata": {},
   "outputs": [],
   "source": [
    "import cv2\n",
    "import numpy as np\n",
    "vid = cv2.VideoCapture(0)\n",
    "lst = []\n",
    "\n",
    "font = cv2.FONT_HERSHEY_SIMPLEX \n",
    "org = (50, 50) \n",
    "fontScale = 1\n",
    "color = (255, 0, 0) \n",
    "thickness = 2\n",
    "while (cv2.waitKey(1) == -1):\n",
    "    ret, frame = vid.read()\n",
    "    if not ret:\n",
    "        break\n",
    "    tmp = cv2.resize(frame , (64, 64))\n",
    "    tmp = tmp / 255.0\n",
    "    pred = model.predict(np.array([tmp]))\n",
    "    frame = cv2.putText(frame, str(pred[0][0]), org, font, fontScale, color, thickness, cv2.LINE_AA) \n",
    "    cv2.imshow(\"Video\", frame)\n",
    "    \n",
    "vid.release()\n",
    "cv2.destroyAllWindows()"
   ]
  },
  {
   "cell_type": "code",
   "execution_count": 4,
   "metadata": {},
   "outputs": [],
   "source": [
    "import cv2\n",
    "import numpy as np\n",
    "vid = cv2.VideoCapture(0)\n",
    "lst = []\n",
    "while (cv2.waitKey(1) == -1):\n",
    "    ret, frame = vid.read()\n",
    "    if not ret:\n",
    "        break\n",
    "    lst.append(cv2.resize(frame, (150,150)))"
   ]
  },
  {
   "cell_type": "code",
   "execution_count": 5,
   "metadata": {},
   "outputs": [],
   "source": [
    "lst2 = np.array(lst)\n",
    "pred = model.predict(lst2)"
   ]
  },
  {
   "cell_type": "code",
   "execution_count": 6,
   "metadata": {},
   "outputs": [],
   "source": [
    "output_folder = 'output/'\n",
    "if not os.path.exists(output_folder):\n",
    "    os.makedirs(output_folder)"
   ]
  },
  {
   "cell_type": "code",
   "execution_count": 7,
   "metadata": {},
   "outputs": [],
   "source": [
    "count = 0\n",
    "fcount = 0\n",
    "vid = cv2.VideoCapture(url)\n",
    "for i in range(len(pred)):\n",
    "    ret, frame = vid.read()\n",
    "    if fcount == i and pred[i] < 0.1:\n",
    "        face_filename = '%s/%d.jpg' % (output_folder, count)\n",
    "        cv2.imwrite(face_filename, frame)\n",
    "        count += 1\n",
    "    fcount += 1\n",
    "    "
   ]
  },
  {
   "cell_type": "code",
   "execution_count": null,
   "metadata": {},
   "outputs": [],
   "source": []
  }
 ]
}