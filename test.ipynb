{
 "metadata": {
  "language_info": {
   "codemirror_mode": {
    "name": "ipython",
    "version": 3
   },
   "file_extension": ".py",
   "mimetype": "text/x-python",
   "name": "python",
   "nbconvert_exporter": "python",
   "pygments_lexer": "ipython3",
   "version": "3.8.5-final"
  },
  "orig_nbformat": 2,
  "kernelspec": {
   "name": "python38564bit6552a5f4260948d58e4b3e55c0789a8f",
   "display_name": "Python 3.8.5 64-bit",
   "language": "python"
  }
 },
 "nbformat": 4,
 "nbformat_minor": 2,
 "cells": [
  {
   "cell_type": "code",
   "execution_count": 1,
   "metadata": {},
   "outputs": [],
   "source": [
    "import tensorflow as tf\n",
    "from tensorflow import keras\n",
    "import cv2\n",
    "import numpy as np"
   ]
  },
  {
   "cell_type": "code",
   "execution_count": 12,
   "metadata": {},
   "outputs": [],
   "source": [
    "model = keras.models.load_model('./Trained Models/m1.h5')\n",
    "url = './Testing/test2.mp4'\n",
    "# url = '/home/avishrant/Downloads/test.mp4'"
   ]
  },
  {
   "cell_type": "code",
   "execution_count": 8,
   "metadata": {},
   "outputs": [
    {
     "output_type": "stream",
     "name": "stdout",
     "text": [
      "Model: \"sequential\"\n_________________________________________________________________\nLayer (type)                 Output Shape              Param #   \n=================================================================\nconv2d (Conv2D)              (None, 148, 148, 32)      896       \n_________________________________________________________________\nmax_pooling2d (MaxPooling2D) (None, 74, 74, 32)        0         \n_________________________________________________________________\nconv2d_1 (Conv2D)            (None, 72, 72, 64)        18496     \n_________________________________________________________________\nmax_pooling2d_1 (MaxPooling2 (None, 36, 36, 64)        0         \n_________________________________________________________________\nconv2d_2 (Conv2D)            (None, 34, 34, 128)       73856     \n_________________________________________________________________\nmax_pooling2d_2 (MaxPooling2 (None, 17, 17, 128)       0         \n_________________________________________________________________\nconv2d_3 (Conv2D)            (None, 15, 15, 128)       147584    \n_________________________________________________________________\nmax_pooling2d_3 (MaxPooling2 (None, 7, 7, 128)         0         \n_________________________________________________________________\ndropout (Dropout)            (None, 7, 7, 128)         0         \n_________________________________________________________________\nflatten (Flatten)            (None, 6272)              0         \n_________________________________________________________________\ndense (Dense)                (None, 512)               3211776   \n_________________________________________________________________\ndense_1 (Dense)              (None, 1)                 513       \n=================================================================\nTotal params: 3,453,121\nTrainable params: 3,453,121\nNon-trainable params: 0\n_________________________________________________________________\n"
     ]
    }
   ],
   "source": [
    "model.summary()"
   ]
  },
  {
   "cell_type": "code",
   "execution_count": 13,
   "metadata": {},
   "outputs": [],
   "source": [
    "class Draw(object):\n",
    "    def __init__(self):\n",
    "        pass\n",
    "\n",
    "    def set_ref(self, frame):\n",
    "        self.ref = frame\n",
    "    \n",
    "    def drawfunc(self, frame):\n",
    "        diff = cv2.absdiff(self.ref, frame)\n",
    "        gray = cv2.cvtColor(diff, cv2.COLOR_BGR2GRAY)\n",
    "        blur = cv2.GaussianBlur(gray, (5,5), 0)\n",
    "        _, thresh = cv2.threshold(blur, 20, 255, cv2.THRESH_BINARY)\n",
    "        dilated = cv2.dilate(thresh, None, iterations=3)\n",
    "        contours, _ = cv2.findContours(dilated, cv2.RETR_TREE, cv2.CHAIN_APPROX_SIMPLE)\n",
    "\n",
    "        self.ref = frame.copy()\n",
    "        for contour in contours:\n",
    "            (x, y, w, h) = cv2.boundingRect(contour)\n",
    "            if cv2.contourArea(contour) < 1500:\n",
    "                continue\n",
    "            frame = cv2.rectangle(frame, (x, y), (x+w, y+h), (0, 255, 0), 2)\n",
    "        return frame"
   ]
  },
  {
   "cell_type": "code",
   "execution_count": 14,
   "metadata": {},
   "outputs": [],
   "source": [
    "# Live Generator\n",
    "vid = cv2.VideoCapture(url)\n",
    "font = cv2.FONT_HERSHEY_SIMPLEX \n",
    "org = (50, 50) \n",
    "fontScale = 1\n",
    "thickness = 2\n",
    "f_stat = False\n",
    "obj = Draw()\n",
    "while (cv2.waitKey(1) == -1):\n",
    "    ret, frame = vid.read()\n",
    "    \n",
    "    if not ret:\n",
    "        break\n",
    "    tmp = cv2.resize(frame , (150, 150))\n",
    "    tmp = tmp / 255.0\n",
    "    pred = model.predict(np.array([tmp]))\n",
    "    if not f_stat:\n",
    "        f_stat = True\n",
    "        obj.set_ref(frame) \n",
    "    else:\n",
    "        frame = obj.drawfunc(frame)\n",
    "\n",
    "    string = \"Suspicious\" if pred[0][0] < 0.5 else \"Peaceful\"\n",
    "    color = (0, 0, 255) if pred[0][0] < 0.5 else (255, 0, 0)\n",
    "    frame = cv2.putText(frame, string, org, font, fontScale, color, thickness, cv2.LINE_AA) \n",
    "    cv2.imshow(\"Video\", frame)\n",
    "    \n",
    "vid.release()\n",
    "cv2.destroyAllWindows()"
   ]
  },
  {
   "cell_type": "code",
   "execution_count": 10,
   "metadata": {},
   "outputs": [],
   "source": [
    "# Image Generator      \n",
    "import cv2\n",
    "import numpy as np\n",
    "vid = cv2.VideoCapture(url)\n",
    "lst = []\n",
    "while (cv2.waitKey(1) == -1):\n",
    "    ret, frame = vid.read()\n",
    "    if not ret:\n",
    "        break\n",
    "    lst.append(cv2.resize(frame, (64,64)))"
   ]
  },
  {
   "cell_type": "code",
   "execution_count": 81,
   "metadata": {},
   "outputs": [],
   "source": [
    "lst2 = np.array(lst)\n",
    "pred = model.predict(lst2)"
   ]
  },
  {
   "cell_type": "code",
   "execution_count": 82,
   "metadata": {},
   "outputs": [],
   "source": [
    "output_folder = 'output/'\n",
    "if not os.path.exists(output_folder):\n",
    "    os.makedirs(output_folder)"
   ]
  },
  {
   "cell_type": "code",
   "execution_count": 83,
   "metadata": {},
   "outputs": [],
   "source": [
    "count = 0\n",
    "fcount = 0\n",
    "vid = cv2.VideoCapture(url)\n",
    "for i in range(len(pred)):\n",
    "    ret, frame = vid.read()\n",
    "    if fcount == i and pred[i] < 0.1:\n",
    "        face_filename = '%s/%d.jpg' % (output_folder, count)\n",
    "        cv2.imwrite(face_filename, frame)\n",
    "        count += 1\n",
    "    fcount += 1\n",
    "    "
   ]
  }
 ]
}