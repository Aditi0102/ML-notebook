{
  "nbformat": 4,
  "nbformat_minor": 0,
  "metadata": {
    "colab": {
      "name": "AiModel.ipynb",
      "provenance": [],
      "authorship_tag": "ABX9TyPYHA85bdewC2sxGf3863se",
      "include_colab_link": true
    },
    "kernelspec": {
      "name": "python3",
      "display_name": "Python 3"
    },
    "accelerator": "GPU"
  },
  "cells": [
    {
      "cell_type": "markdown",
      "metadata": {
        "id": "view-in-github",
        "colab_type": "text"
      },
      "source": [
        "<a href=\"https://colab.research.google.com/github/Aditi0102/ML-notebook/blob/main/AiModel.ipynb\" target=\"_parent\"><img src=\"https://colab.research.google.com/assets/colab-badge.svg\" alt=\"Open In Colab\"/></a>"
      ]
    },
    {
      "cell_type": "code",
      "metadata": {
        "id": "AlJRNQ5bkBFN"
      },
      "source": [
        "! pip install -q kaggle"
      ],
      "execution_count": 3,
      "outputs": []
    },
    {
      "cell_type": "code",
      "metadata": {
        "id": "UMv6e4ksts7i"
      },
      "source": [
        "%tensorflow_version 2.x"
      ],
      "execution_count": 4,
      "outputs": []
    },
    {
      "cell_type": "code",
      "metadata": {
        "id": "NwONeUCXtvOy"
      },
      "source": [
        "import tensorflow as tf\n",
        "from tensorflow import keras\n",
        "from tensorflow.keras import datasets, layers, models\n",
        "from sklearn.model_selection import train_test_split\n",
        "import matplotlib.pyplot as plt\n",
        "import numpy as np\n",
        "from tensorflow.keras.preprocessing.image import ImageDataGenerator\n",
        "from IPython.display import clear_output\n",
        "import cv2\n",
        "from tensorflow.keras.optimizers import RMSprop\n",
        "from google.colab.patches import cv2_imshow\n",
        "import math"
      ],
      "execution_count": 5,
      "outputs": []
    },
    {
      "cell_type": "code",
      "metadata": {
        "colab": {
          "resources": {
            "http://localhost:8080/nbextensions/google.colab/files.js": {
              "data": "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",
              "ok": true,
              "headers": [
                [
                  "content-type",
                  "application/javascript"
                ]
              ],
              "status": 200,
              "status_text": ""
            }
          },
          "base_uri": "https://localhost:8080/",
          "height": 89
        },
        "id": "yAkLu1SfmL9J",
        "outputId": "19e7f598-07e1-4b66-e3f9-3b43b9f6f285"
      },
      "source": [
        "from google.colab import files\n",
        "files.upload()"
      ],
      "execution_count": 6,
      "outputs": [
        {
          "output_type": "display_data",
          "data": {
            "text/html": [
              "\n",
              "     <input type=\"file\" id=\"files-4c68eae0-a738-4f6b-b242-7a563222c3a3\" name=\"files[]\" multiple disabled\n",
              "        style=\"border:none\" />\n",
              "     <output id=\"result-4c68eae0-a738-4f6b-b242-7a563222c3a3\">\n",
              "      Upload widget is only available when the cell has been executed in the\n",
              "      current browser session. Please rerun this cell to enable.\n",
              "      </output>\n",
              "      <script src=\"/nbextensions/google.colab/files.js\"></script> "
            ],
            "text/plain": [
              "<IPython.core.display.HTML object>"
            ]
          },
          "metadata": {
            "tags": []
          }
        },
        {
          "output_type": "stream",
          "text": [
            "Saving kaggle.json to kaggle.json\n"
          ],
          "name": "stdout"
        },
        {
          "output_type": "execute_result",
          "data": {
            "text/plain": [
              "{'kaggle.json': b'{\"username\":\"aditiagarwal01\",\"key\":\"4c56849565c39183e765f285aeafe7d3\"}\\n'}"
            ]
          },
          "metadata": {
            "tags": []
          },
          "execution_count": 6
        }
      ]
    },
    {
      "cell_type": "code",
      "metadata": {
        "id": "4ltXdvj3mVIY",
        "colab": {
          "base_uri": "https://localhost:8080/"
        },
        "outputId": "72176417-46a0-409c-fd4f-3d791c7f3845"
      },
      "source": [
        "! mkdir ~/.kaggle\n",
        "! cp kaggle.json ~/.kaggle/\n",
        "! chmod 600 ~/.kaggle/kaggle.json"
      ],
      "execution_count": 8,
      "outputs": [
        {
          "output_type": "stream",
          "text": [
            "mkdir: cannot create directory ‘/root/.kaggle’: File exists\n"
          ],
          "name": "stdout"
        }
      ]
    },
    {
      "cell_type": "code",
      "metadata": {
        "colab": {
          "base_uri": "https://localhost:8080/"
        },
        "id": "T0gQkgc8miLa",
        "outputId": "78c39889-cee1-4416-e3ed-beb7e21fa549"
      },
      "source": [
        "! kaggle datasets download -d mohamedmustafa/real-life-violence-situations-dataset"
      ],
      "execution_count": 9,
      "outputs": [
        {
          "output_type": "stream",
          "text": [
            "Downloading real-life-violence-situations-dataset.zip to /content\n",
            "100% 3.57G/3.58G [01:18<00:00, 52.4MB/s]\n",
            "100% 3.58G/3.58G [01:18<00:00, 48.8MB/s]\n"
          ],
          "name": "stdout"
        }
      ]
    },
    {
      "cell_type": "code",
      "metadata": {
        "id": "T76UmcodoIm4",
        "colab": {
          "base_uri": "https://localhost:8080/"
        },
        "outputId": "40eadefd-a927-473f-ed49-90d6f9839694"
      },
      "source": [
        "!unzip \\*.zip  && rm *.zip\n",
        "clear_output()\n",
        "print(\"Extracted\")"
      ],
      "execution_count": 10,
      "outputs": [
        {
          "output_type": "stream",
          "text": [
            "Extracted\n"
          ],
          "name": "stdout"
        }
      ]
    },
    {
      "cell_type": "code",
      "metadata": {
        "colab": {
          "base_uri": "https://localhost:8080/"
        },
        "id": "ObdJyTzoPmBi",
        "outputId": "b93a8502-7c2f-440e-cc71-e4494f734fb5"
      },
      "source": [
        ""
      ],
      "execution_count": 41,
      "outputs": [
        {
          "output_type": "stream",
          "text": [
            "rm: cannot remove 'v': Is a directory\n"
          ],
          "name": "stdout"
        }
      ]
    },
    {
      "cell_type": "code",
      "metadata": {
        "id": "XMhnNE9i5l8s"
      },
      "source": [
        "import os\n",
        "train_folder = 'Directories/training/violent'\n",
        "if not os.path.exists(train_folder):\n",
        "    os.makedirs(train_folder)"
      ],
      "execution_count": 11,
      "outputs": []
    },
    {
      "cell_type": "code",
      "metadata": {
        "colab": {
          "base_uri": "https://localhost:8080/"
        },
        "id": "cOpn_icTw1Lt",
        "outputId": "c6743eb4-37f6-4a34-fb3a-0e3f867ec46b"
      },
      "source": [
        "# Training Data\n",
        "\n",
        "count = 0\n",
        "for i in range (1,200):\n",
        "    videoFile = f\"/content/real life violence situations/Real Life Violence Dataset/Violence/V_{i}.mp4\"\n",
        "    cap = cv2.VideoCapture(videoFile)   # capturing the video from the given path\n",
        "    print(f\"Processing Violence_{i}\")\n",
        "    while True:\n",
        "        ret, frame = cap.read()\n",
        "        if ret is False:\n",
        "            break\n",
        "        frame = cv2.resize(frame, (64,64))\n",
        "        fname = '%s/%d.jpg' % (train_folder, count)\n",
        "        cv2.imwrite(fname, frame)\n",
        "        count += 1\n",
        "    \n",
        "    cap.release()\n",
        "clear_output()\n",
        "print(\"Done Training with Violence !!\")\n"
      ],
      "execution_count": 12,
      "outputs": [
        {
          "output_type": "stream",
          "text": [
            "Done Training with Violence !!\n"
          ],
          "name": "stdout"
        }
      ]
    },
    {
      "cell_type": "code",
      "metadata": {
        "id": "vxdVjDdA7AdJ"
      },
      "source": [
        "import os\n",
        "test_folder = 'Directories/validation/violent'\n",
        "if not os.path.exists(test_folder):\n",
        "    os.makedirs(test_folder)"
      ],
      "execution_count": 13,
      "outputs": []
    },
    {
      "cell_type": "code",
      "metadata": {
        "colab": {
          "base_uri": "https://localhost:8080/"
        },
        "id": "dhxAyhsJ6uAB",
        "outputId": "a9b4dc02-b5f4-4868-94a1-11f79de544d1"
      },
      "source": [
        "# Testing Data\n",
        "count = 0\n",
        "for i in range (200,300):\n",
        "    videoFile = f\"/content/real life violence situations/Real Life Violence Dataset/Violence/V_{i}.mp4\"\n",
        "    cap = cv2.VideoCapture(videoFile)   # capturing the video from the given path\n",
        "    print(f\"Processing Violence_{i}\")\n",
        "    while True:\n",
        "        ret, frame = cap.read()\n",
        "        if ret is False:\n",
        "            break\n",
        "        frame = cv2.resize(frame, (64,64))\n",
        "        fname = '%s/%d.jpg' % (test_folder, count)\n",
        "        cv2.imwrite(fname, frame)\n",
        "        count += 1\n",
        "    \n",
        "    cap.release()\n",
        "clear_output()\n",
        "print(\"Done Training with Violence !!\")\n"
      ],
      "execution_count": 14,
      "outputs": [
        {
          "output_type": "stream",
          "text": [
            "Done Training with Violence !!\n"
          ],
          "name": "stdout"
        }
      ]
    },
    {
      "cell_type": "code",
      "metadata": {
        "id": "cukhDLj87SPF"
      },
      "source": [
        "import os\n",
        "nv_folder = 'Directories/training/non_violent'\n",
        "if not os.path.exists(nv_folder):\n",
        "    os.makedirs(nv_folder)"
      ],
      "execution_count": 15,
      "outputs": []
    },
    {
      "cell_type": "code",
      "metadata": {
        "colab": {
          "base_uri": "https://localhost:8080/"
        },
        "id": "gHmQnEXSxw9k",
        "outputId": "f513c53c-6415-47c9-fd0e-d7f15a6811b8"
      },
      "source": [
        "count = 0\n",
        "for i in range (1,200):\n",
        "    videoFile = f\"/content/real life violence situations/Real Life Violence Dataset/NonViolence/NV_{i}.mp4\"\n",
        "    cap = cv2.VideoCapture(videoFile)   # capturing the video from the given path\n",
        "    print(f\"Reading File NonViolence_{i}\")\n",
        "    while True:\n",
        "        ret, frame = cap.read()\n",
        "        if ret is False:\n",
        "            break\n",
        "\n",
        "        frame = cv2.resize(frame, (64,64))\n",
        "        fname = '%s/%d.jpg' % (nv_folder, count)\n",
        "        cv2.imwrite(fname, frame)\n",
        "        count += 1\n",
        "\n",
        "        count += 1\n",
        "    cap.release()\n",
        "clear_output()\n",
        "print(\"Done Training with Non-Violence !!\")"
      ],
      "execution_count": 16,
      "outputs": [
        {
          "output_type": "stream",
          "text": [
            "Done Training with Non-Violence !!\n"
          ],
          "name": "stdout"
        }
      ]
    },
    {
      "cell_type": "code",
      "metadata": {
        "id": "IO9uqERn7U8a"
      },
      "source": [
        "import os\n",
        "nv_test_folder = 'Directories/validation/non_violent'\n",
        "if not os.path.exists(nv_test_folder):\n",
        "    os.makedirs(nv_test_folder)"
      ],
      "execution_count": 17,
      "outputs": []
    },
    {
      "cell_type": "code",
      "metadata": {
        "colab": {
          "base_uri": "https://localhost:8080/"
        },
        "id": "Je8pMkix7WKe",
        "outputId": "3fbba1ff-c309-443e-b00f-1f8c2ec0c4fa"
      },
      "source": [
        "count = 0\n",
        "for i in range (200,300):\n",
        "    videoFile = f\"/content/real life violence situations/Real Life Violence Dataset/NonViolence/NV_{i}.mp4\"\n",
        "    cap = cv2.VideoCapture(videoFile)   # capturing the video from the given path\n",
        "    print(f\"Reading File NonViolence_{i}\")\n",
        "    while True:\n",
        "        ret, frame = cap.read()\n",
        "        if ret is False:\n",
        "            break\n",
        "\n",
        "        frame = cv2.resize(frame, (64,64))\n",
        "        fname = '%s/%d.jpg' % (nv_test_folder, count)\n",
        "        cv2.imwrite(fname, frame)\n",
        "        count += 1\n",
        "\n",
        "        count += 1\n",
        "    cap.release()\n",
        "clear_output()\n",
        "print(\"Done Training with Non-Violence !!\")\n"
      ],
      "execution_count": 18,
      "outputs": [
        {
          "output_type": "stream",
          "text": [
            "Done Training with Non-Violence !!\n"
          ],
          "name": "stdout"
        }
      ]
    },
    {
      "cell_type": "code",
      "metadata": {
        "id": "m2HBuKBHMOTJ"
      },
      "source": [
        "\n",
        "base_dir = './Directories'\n",
        "train_dir = os.path.join(base_dir,'training')\n",
        "validation_dir = os.path.join(base_dir,'validation')"
      ],
      "execution_count": 19,
      "outputs": []
    },
    {
      "cell_type": "code",
      "metadata": {
        "id": "uUl20IHGWBsa"
      },
      "source": [
        "train_violent_dir = os.path.join(train_dir,'violent')\n",
        "train_nonviolent_dir=os.path.join(train_dir,'non_violent')\n",
        "validation_violent_dir=os.path.join(validation_dir,'violent')\n",
        "validation_nonviolent_dir=os.path.join(validation_dir,'non_violent')\n"
      ],
      "execution_count": 20,
      "outputs": []
    },
    {
      "cell_type": "code",
      "metadata": {
        "id": "GndUejjEBI30"
      },
      "source": [
        "train_datagen= ImageDataGenerator(rescale=1./255,rotation_range=40, width_shift_range=0.2, height_shift_range=0.2, shear_range=0.2, horizontal_flip=True, fill_mode='nearest')\n",
        "test_datagen = ImageDataGenerator(rescale =1./255)"
      ],
      "execution_count": 21,
      "outputs": []
    },
    {
      "cell_type": "code",
      "metadata": {
        "colab": {
          "base_uri": "https://localhost:8080/"
        },
        "id": "gBh-0oWIC3Hv",
        "outputId": "350654f0-2ecf-461e-af46-7e2c7b65d37c"
      },
      "source": [
        "train_generator = train_datagen.flow_from_directory(train_dir, target_size = (150,150),batch_size=20, class_mode='binary')"
      ],
      "execution_count": 22,
      "outputs": [
        {
          "output_type": "stream",
          "text": [
            "Found 54226 images belonging to 2 classes.\n"
          ],
          "name": "stdout"
        }
      ]
    },
    {
      "cell_type": "code",
      "metadata": {
        "colab": {
          "base_uri": "https://localhost:8080/"
        },
        "id": "HGy2UI6fZvLf",
        "outputId": "ea359969-f530-47b0-d37e-8e0ff84f5c1d"
      },
      "source": [
        "validation_generator = test_datagen.flow_from_directory(validation_dir,target_size=(150,150),batch_size=20,class_mode='binary')\n"
      ],
      "execution_count": 23,
      "outputs": [
        {
          "output_type": "stream",
          "text": [
            "Found 27123 images belonging to 2 classes.\n"
          ],
          "name": "stdout"
        }
      ]
    },
    {
      "cell_type": "code",
      "metadata": {
        "id": "jQwhVxvGaxej"
      },
      "source": [
        "model= tf.keras.models.Sequential([\n",
        "       tf.keras.layers.Conv2D(32,(3,3),activation='relu',input_shape=(150,150,3)),\n",
        "       tf.keras.layers.MaxPooling2D(2,2),\n",
        "       tf.keras.layers.Conv2D(64,(3,3),activation='relu'),\n",
        "       tf.keras.layers.MaxPooling2D(2,2),\n",
        "       tf.keras.layers.Conv2D(128,(3,3),activation='relu'),\n",
        "       tf.keras.layers.MaxPooling2D(2,2),\n",
        "       tf.keras.layers.Conv2D(128,(3,3),activation='relu'),\n",
        "       tf.keras.layers.MaxPooling2D(2,2),\n",
        "       tf.keras.layers.Dropout(0.5),\n",
        "       tf.keras.layers.Flatten(),\n",
        "       tf.keras.layers.Dense(512, activation='relu'),\n",
        "       tf.keras.layers.Dense(1,activation ='sigmoid')\n",
        "\n",
        "])"
      ],
      "execution_count": 24,
      "outputs": []
    },
    {
      "cell_type": "code",
      "metadata": {
        "id": "NpeQGki-bPdz"
      },
      "source": [
        "model.compile(loss='binary_crossentropy',optimizer =RMSprop(lr=1e-4),metrics=['accuracy'])\n",
        "\n"
      ],
      "execution_count": 25,
      "outputs": []
    },
    {
      "cell_type": "code",
      "metadata": {
        "colab": {
          "base_uri": "https://localhost:8080/"
        },
        "id": "PI59Z3fYdcAv",
        "outputId": "d8cb8244-f081-4fb1-d3c5-dd54accdacc4"
      },
      "source": [
        "model1= model.fit(train_generator, \n",
        "                  steps_per_epoch=100,\n",
        "                  epochs=100, \n",
        "                  validation_data=validation_generator,\n",
        "                  validation_steps=50,verbose=2)"
      ],
      "execution_count": 26,
      "outputs": [
        {
          "output_type": "stream",
          "text": [
            "Epoch 1/100\n",
            "100/100 - 17s - loss: 0.5679 - accuracy: 0.6905 - val_loss: 0.9256 - val_accuracy: 0.5320\n",
            "Epoch 2/100\n",
            "100/100 - 10s - loss: 0.3792 - accuracy: 0.8315 - val_loss: 0.5958 - val_accuracy: 0.6810\n",
            "Epoch 3/100\n",
            "100/100 - 10s - loss: 0.3579 - accuracy: 0.8320 - val_loss: 0.7768 - val_accuracy: 0.6420\n",
            "Epoch 4/100\n",
            "100/100 - 10s - loss: 0.3296 - accuracy: 0.8555 - val_loss: 0.6260 - val_accuracy: 0.6730\n",
            "Epoch 5/100\n",
            "100/100 - 10s - loss: 0.3082 - accuracy: 0.8585 - val_loss: 0.5646 - val_accuracy: 0.7310\n",
            "Epoch 6/100\n",
            "100/100 - 10s - loss: 0.2710 - accuracy: 0.8855 - val_loss: 0.4967 - val_accuracy: 0.7570\n",
            "Epoch 7/100\n",
            "100/100 - 10s - loss: 0.2585 - accuracy: 0.8960 - val_loss: 0.7290 - val_accuracy: 0.7130\n",
            "Epoch 8/100\n",
            "100/100 - 10s - loss: 0.2423 - accuracy: 0.9005 - val_loss: 0.6461 - val_accuracy: 0.7530\n",
            "Epoch 9/100\n",
            "100/100 - 10s - loss: 0.2538 - accuracy: 0.9008 - val_loss: 1.0669 - val_accuracy: 0.6130\n",
            "Epoch 10/100\n",
            "100/100 - 10s - loss: 0.2447 - accuracy: 0.9025 - val_loss: 0.4524 - val_accuracy: 0.7750\n",
            "Epoch 11/100\n",
            "100/100 - 10s - loss: 0.2396 - accuracy: 0.9065 - val_loss: 0.6471 - val_accuracy: 0.7470\n",
            "Epoch 12/100\n",
            "100/100 - 10s - loss: 0.2137 - accuracy: 0.9250 - val_loss: 0.7401 - val_accuracy: 0.7120\n",
            "Epoch 13/100\n",
            "100/100 - 10s - loss: 0.2136 - accuracy: 0.9175 - val_loss: 1.1143 - val_accuracy: 0.6420\n",
            "Epoch 14/100\n",
            "100/100 - 10s - loss: 0.2050 - accuracy: 0.9280 - val_loss: 0.7905 - val_accuracy: 0.7220\n",
            "Epoch 15/100\n",
            "100/100 - 10s - loss: 0.2078 - accuracy: 0.9140 - val_loss: 0.9339 - val_accuracy: 0.6670\n",
            "Epoch 16/100\n",
            "100/100 - 10s - loss: 0.2053 - accuracy: 0.9245 - val_loss: 0.8307 - val_accuracy: 0.6870\n",
            "Epoch 17/100\n",
            "100/100 - 10s - loss: 0.1811 - accuracy: 0.9275 - val_loss: 0.8611 - val_accuracy: 0.7100\n",
            "Epoch 18/100\n",
            "100/100 - 10s - loss: 0.1781 - accuracy: 0.9290 - val_loss: 0.4844 - val_accuracy: 0.8180\n",
            "Epoch 19/100\n",
            "100/100 - 10s - loss: 0.1897 - accuracy: 0.9360 - val_loss: 0.6625 - val_accuracy: 0.7730\n",
            "Epoch 20/100\n",
            "100/100 - 10s - loss: 0.1937 - accuracy: 0.9255 - val_loss: 0.7037 - val_accuracy: 0.7410\n",
            "Epoch 21/100\n",
            "100/100 - 10s - loss: 0.1703 - accuracy: 0.9415 - val_loss: 0.5836 - val_accuracy: 0.7840\n",
            "Epoch 22/100\n",
            "100/100 - 10s - loss: 0.1389 - accuracy: 0.9495 - val_loss: 0.4439 - val_accuracy: 0.8270\n",
            "Epoch 23/100\n",
            "100/100 - 10s - loss: 0.1592 - accuracy: 0.9495 - val_loss: 0.4528 - val_accuracy: 0.7940\n",
            "Epoch 24/100\n",
            "100/100 - 10s - loss: 0.1539 - accuracy: 0.9460 - val_loss: 0.5625 - val_accuracy: 0.8090\n",
            "Epoch 25/100\n",
            "100/100 - 10s - loss: 0.1604 - accuracy: 0.9445 - val_loss: 0.7047 - val_accuracy: 0.7500\n",
            "Epoch 26/100\n",
            "100/100 - 10s - loss: 0.1432 - accuracy: 0.9520 - val_loss: 0.5035 - val_accuracy: 0.8050\n",
            "Epoch 27/100\n",
            "100/100 - 10s - loss: 0.1416 - accuracy: 0.9555 - val_loss: 0.7527 - val_accuracy: 0.7580\n",
            "Epoch 28/100\n",
            "100/100 - 10s - loss: 0.1393 - accuracy: 0.9520 - val_loss: 0.7086 - val_accuracy: 0.7650\n",
            "Epoch 29/100\n",
            "100/100 - 10s - loss: 0.1350 - accuracy: 0.9525 - val_loss: 0.6038 - val_accuracy: 0.8050\n",
            "Epoch 30/100\n",
            "100/100 - 10s - loss: 0.1460 - accuracy: 0.9510 - val_loss: 0.5132 - val_accuracy: 0.8120\n",
            "Epoch 31/100\n",
            "100/100 - 10s - loss: 0.1327 - accuracy: 0.9550 - val_loss: 0.6376 - val_accuracy: 0.7850\n",
            "Epoch 32/100\n",
            "100/100 - 10s - loss: 0.1340 - accuracy: 0.9550 - val_loss: 0.7266 - val_accuracy: 0.7350\n",
            "Epoch 33/100\n",
            "100/100 - 10s - loss: 0.1283 - accuracy: 0.9550 - val_loss: 1.1802 - val_accuracy: 0.6820\n",
            "Epoch 34/100\n",
            "100/100 - 10s - loss: 0.1250 - accuracy: 0.9570 - val_loss: 0.7113 - val_accuracy: 0.7570\n",
            "Epoch 35/100\n",
            "100/100 - 10s - loss: 0.1423 - accuracy: 0.9505 - val_loss: 0.6730 - val_accuracy: 0.7780\n",
            "Epoch 36/100\n",
            "100/100 - 10s - loss: 0.1142 - accuracy: 0.9605 - val_loss: 0.5843 - val_accuracy: 0.8180\n",
            "Epoch 37/100\n",
            "100/100 - 10s - loss: 0.0987 - accuracy: 0.9650 - val_loss: 0.6275 - val_accuracy: 0.7880\n",
            "Epoch 38/100\n",
            "100/100 - 10s - loss: 0.1246 - accuracy: 0.9550 - val_loss: 0.6061 - val_accuracy: 0.8190\n",
            "Epoch 39/100\n",
            "100/100 - 10s - loss: 0.1037 - accuracy: 0.9625 - val_loss: 0.8309 - val_accuracy: 0.7550\n",
            "Epoch 40/100\n",
            "100/100 - 10s - loss: 0.1257 - accuracy: 0.9595 - val_loss: 0.3496 - val_accuracy: 0.8560\n",
            "Epoch 41/100\n",
            "100/100 - 10s - loss: 0.1079 - accuracy: 0.9615 - val_loss: 0.4315 - val_accuracy: 0.8510\n",
            "Epoch 42/100\n",
            "100/100 - 10s - loss: 0.0857 - accuracy: 0.9650 - val_loss: 0.5535 - val_accuracy: 0.8310\n",
            "Epoch 43/100\n",
            "100/100 - 10s - loss: 0.0968 - accuracy: 0.9715 - val_loss: 0.4269 - val_accuracy: 0.8510\n",
            "Epoch 44/100\n",
            "100/100 - 10s - loss: 0.1150 - accuracy: 0.9610 - val_loss: 0.3649 - val_accuracy: 0.8560\n",
            "Epoch 45/100\n",
            "100/100 - 10s - loss: 0.1061 - accuracy: 0.9625 - val_loss: 0.6744 - val_accuracy: 0.8030\n",
            "Epoch 46/100\n",
            "100/100 - 11s - loss: 0.1097 - accuracy: 0.9665 - val_loss: 0.3853 - val_accuracy: 0.8600\n",
            "Epoch 47/100\n",
            "100/100 - 11s - loss: 0.1138 - accuracy: 0.9620 - val_loss: 0.5783 - val_accuracy: 0.8060\n",
            "Epoch 48/100\n",
            "100/100 - 10s - loss: 0.1114 - accuracy: 0.9610 - val_loss: 0.5796 - val_accuracy: 0.8070\n",
            "Epoch 49/100\n",
            "100/100 - 10s - loss: 0.0879 - accuracy: 0.9670 - val_loss: 0.5354 - val_accuracy: 0.8320\n",
            "Epoch 50/100\n",
            "100/100 - 10s - loss: 0.0981 - accuracy: 0.9685 - val_loss: 0.7956 - val_accuracy: 0.7430\n",
            "Epoch 51/100\n",
            "100/100 - 10s - loss: 0.1077 - accuracy: 0.9605 - val_loss: 1.0139 - val_accuracy: 0.7060\n",
            "Epoch 52/100\n",
            "100/100 - 10s - loss: 0.1366 - accuracy: 0.9585 - val_loss: 0.5415 - val_accuracy: 0.8190\n",
            "Epoch 53/100\n",
            "100/100 - 10s - loss: 0.1042 - accuracy: 0.9640 - val_loss: 0.7323 - val_accuracy: 0.7860\n",
            "Epoch 54/100\n",
            "100/100 - 10s - loss: 0.0888 - accuracy: 0.9675 - val_loss: 0.9781 - val_accuracy: 0.7580\n",
            "Epoch 55/100\n",
            "100/100 - 10s - loss: 0.0870 - accuracy: 0.9695 - val_loss: 0.6061 - val_accuracy: 0.8150\n",
            "Epoch 56/100\n",
            "100/100 - 10s - loss: 0.0904 - accuracy: 0.9680 - val_loss: 1.0671 - val_accuracy: 0.7320\n",
            "Epoch 57/100\n",
            "100/100 - 10s - loss: 0.1165 - accuracy: 0.9645 - val_loss: 0.4671 - val_accuracy: 0.8300\n",
            "Epoch 58/100\n",
            "100/100 - 10s - loss: 0.0801 - accuracy: 0.9700 - val_loss: 0.5102 - val_accuracy: 0.8410\n",
            "Epoch 59/100\n",
            "100/100 - 10s - loss: 0.1041 - accuracy: 0.9685 - val_loss: 0.3409 - val_accuracy: 0.8740\n",
            "Epoch 60/100\n",
            "100/100 - 10s - loss: 0.0815 - accuracy: 0.9730 - val_loss: 0.4961 - val_accuracy: 0.8330\n",
            "Epoch 61/100\n",
            "100/100 - 10s - loss: 0.0936 - accuracy: 0.9735 - val_loss: 0.5929 - val_accuracy: 0.7990\n",
            "Epoch 62/100\n",
            "100/100 - 10s - loss: 0.0967 - accuracy: 0.9695 - val_loss: 0.6160 - val_accuracy: 0.7930\n",
            "Epoch 63/100\n",
            "100/100 - 10s - loss: 0.0862 - accuracy: 0.9735 - val_loss: 0.5249 - val_accuracy: 0.8390\n",
            "Epoch 64/100\n",
            "100/100 - 10s - loss: 0.0815 - accuracy: 0.9710 - val_loss: 0.9722 - val_accuracy: 0.7540\n",
            "Epoch 65/100\n",
            "100/100 - 10s - loss: 0.0982 - accuracy: 0.9695 - val_loss: 0.6568 - val_accuracy: 0.7720\n",
            "Epoch 66/100\n",
            "100/100 - 10s - loss: 0.0812 - accuracy: 0.9690 - val_loss: 0.4686 - val_accuracy: 0.8450\n",
            "Epoch 67/100\n",
            "100/100 - 10s - loss: 0.0973 - accuracy: 0.9700 - val_loss: 0.5732 - val_accuracy: 0.8180\n",
            "Epoch 68/100\n",
            "100/100 - 10s - loss: 0.0893 - accuracy: 0.9695 - val_loss: 0.4365 - val_accuracy: 0.8440\n",
            "Epoch 69/100\n",
            "100/100 - 10s - loss: 0.1095 - accuracy: 0.9640 - val_loss: 0.9357 - val_accuracy: 0.7280\n",
            "Epoch 70/100\n",
            "100/100 - 10s - loss: 0.0844 - accuracy: 0.9715 - val_loss: 0.6810 - val_accuracy: 0.8030\n",
            "Epoch 71/100\n",
            "100/100 - 10s - loss: 0.0888 - accuracy: 0.9700 - val_loss: 0.6349 - val_accuracy: 0.7560\n",
            "Epoch 72/100\n",
            "100/100 - 10s - loss: 0.0952 - accuracy: 0.9665 - val_loss: 0.9027 - val_accuracy: 0.7860\n",
            "Epoch 73/100\n",
            "100/100 - 10s - loss: 0.0855 - accuracy: 0.9705 - val_loss: 0.3726 - val_accuracy: 0.8500\n",
            "Epoch 74/100\n",
            "100/100 - 10s - loss: 0.0752 - accuracy: 0.9750 - val_loss: 0.4135 - val_accuracy: 0.8400\n",
            "Epoch 75/100\n",
            "100/100 - 10s - loss: 0.0797 - accuracy: 0.9750 - val_loss: 1.2975 - val_accuracy: 0.7040\n",
            "Epoch 76/100\n",
            "100/100 - 10s - loss: 0.0853 - accuracy: 0.9705 - val_loss: 0.5553 - val_accuracy: 0.8230\n",
            "Epoch 77/100\n",
            "100/100 - 10s - loss: 0.0829 - accuracy: 0.9735 - val_loss: 0.5294 - val_accuracy: 0.8510\n",
            "Epoch 78/100\n",
            "100/100 - 10s - loss: 0.0909 - accuracy: 0.9725 - val_loss: 1.2800 - val_accuracy: 0.7320\n",
            "Epoch 79/100\n",
            "100/100 - 10s - loss: 0.0717 - accuracy: 0.9775 - val_loss: 0.6529 - val_accuracy: 0.8130\n",
            "Epoch 80/100\n",
            "100/100 - 10s - loss: 0.0777 - accuracy: 0.9715 - val_loss: 0.6660 - val_accuracy: 0.7910\n",
            "Epoch 81/100\n",
            "100/100 - 10s - loss: 0.0973 - accuracy: 0.9715 - val_loss: 0.6870 - val_accuracy: 0.7800\n",
            "Epoch 82/100\n",
            "100/100 - 10s - loss: 0.0859 - accuracy: 0.9750 - val_loss: 0.4166 - val_accuracy: 0.8500\n",
            "Epoch 83/100\n",
            "100/100 - 10s - loss: 0.0676 - accuracy: 0.9765 - val_loss: 0.7952 - val_accuracy: 0.7960\n",
            "Epoch 84/100\n",
            "100/100 - 10s - loss: 0.0826 - accuracy: 0.9710 - val_loss: 0.5856 - val_accuracy: 0.7870\n",
            "Epoch 85/100\n",
            "100/100 - 10s - loss: 0.0748 - accuracy: 0.9750 - val_loss: 0.8181 - val_accuracy: 0.7830\n",
            "Epoch 86/100\n",
            "100/100 - 10s - loss: 0.0807 - accuracy: 0.9720 - val_loss: 0.7991 - val_accuracy: 0.7740\n",
            "Epoch 87/100\n",
            "100/100 - 10s - loss: 0.0703 - accuracy: 0.9730 - val_loss: 0.9983 - val_accuracy: 0.7610\n",
            "Epoch 88/100\n",
            "100/100 - 10s - loss: 0.0756 - accuracy: 0.9750 - val_loss: 0.7967 - val_accuracy: 0.7970\n",
            "Epoch 89/100\n",
            "100/100 - 10s - loss: 0.0819 - accuracy: 0.9725 - val_loss: 0.8794 - val_accuracy: 0.8070\n",
            "Epoch 90/100\n",
            "100/100 - 10s - loss: 0.0995 - accuracy: 0.9770 - val_loss: 0.9170 - val_accuracy: 0.7700\n",
            "Epoch 91/100\n",
            "100/100 - 10s - loss: 0.0790 - accuracy: 0.9770 - val_loss: 1.1237 - val_accuracy: 0.7390\n",
            "Epoch 92/100\n",
            "100/100 - 10s - loss: 0.0663 - accuracy: 0.9765 - val_loss: 0.3926 - val_accuracy: 0.8920\n",
            "Epoch 93/100\n",
            "100/100 - 10s - loss: 0.0678 - accuracy: 0.9745 - val_loss: 0.5157 - val_accuracy: 0.8290\n",
            "Epoch 94/100\n",
            "100/100 - 10s - loss: 0.0699 - accuracy: 0.9780 - val_loss: 0.5476 - val_accuracy: 0.8370\n",
            "Epoch 95/100\n",
            "100/100 - 10s - loss: 0.0563 - accuracy: 0.9780 - val_loss: 0.8238 - val_accuracy: 0.7840\n",
            "Epoch 96/100\n",
            "100/100 - 10s - loss: 0.0858 - accuracy: 0.9750 - val_loss: 0.2916 - val_accuracy: 0.9020\n",
            "Epoch 97/100\n",
            "100/100 - 10s - loss: 0.0706 - accuracy: 0.9775 - val_loss: 0.7635 - val_accuracy: 0.8210\n",
            "Epoch 98/100\n",
            "100/100 - 10s - loss: 0.0789 - accuracy: 0.9820 - val_loss: 0.8552 - val_accuracy: 0.7660\n",
            "Epoch 99/100\n",
            "100/100 - 10s - loss: 0.0524 - accuracy: 0.9830 - val_loss: 1.6160 - val_accuracy: 0.7080\n",
            "Epoch 100/100\n",
            "100/100 - 10s - loss: 0.0590 - accuracy: 0.9775 - val_loss: 0.5313 - val_accuracy: 0.8460\n"
          ],
          "name": "stdout"
        }
      ]
    },
    {
      "cell_type": "code",
      "metadata": {
        "id": "zz-ez4ogoE9M"
      },
      "source": [
        ""
      ],
      "execution_count": null,
      "outputs": []
    },
    {
      "cell_type": "code",
      "metadata": {
        "colab": {
          "base_uri": "https://localhost:8080/"
        },
        "id": "RXdehUbrPnuI",
        "outputId": "36525567-819c-4358-b76f-e8c97eb6ecb1"
      },
      "source": [
        "import time\r\n",
        "t = time.time()\r\n",
        "export_path_keras = \"./{}.h5\".format(int(t))\r\n",
        "print(export_path_keras)\r\n",
        "\r\n",
        "model.save(export_path_keras)"
      ],
      "execution_count": 28,
      "outputs": [
        {
          "output_type": "stream",
          "text": [
            "./1610992372.h5\n"
          ],
          "name": "stdout"
        }
      ]
    }
  ]
}