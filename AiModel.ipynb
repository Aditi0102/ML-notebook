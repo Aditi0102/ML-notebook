{
  "nbformat": 4,
  "nbformat_minor": 0,
  "metadata": {
    "colab": {
      "name": "AiModel.ipynb",
      "provenance": [],
      "include_colab_link": true
    },
    "kernelspec": {
      "name": "python3",
      "display_name": "Python 3"
    },
    "accelerator": "GPU"
  },
  "cells": [
    {
      "cell_type": "markdown",
      "metadata": {
        "id": "view-in-github",
        "colab_type": "text"
      },
      "source": [
        "<a href=\"https://colab.research.google.com/github/Aditi0102/ML-notebook/blob/main/AiModel.ipynb\" target=\"_parent\"><img src=\"https://colab.research.google.com/assets/colab-badge.svg\" alt=\"Open In Colab\"/></a>"
      ]
    },
    {
      "cell_type": "code",
      "metadata": {
        "id": "AlJRNQ5bkBFN"
      },
      "source": [
        "! pip install -q kaggle"
      ],
      "execution_count": null,
      "outputs": []
    },
    {
      "cell_type": "code",
      "metadata": {
        "id": "UMv6e4ksts7i"
      },
      "source": [
        "%tensorflow_version 2.x"
      ],
      "execution_count": 1,
      "outputs": []
    },
    {
      "cell_type": "code",
      "metadata": {
        "id": "NwONeUCXtvOy"
      },
      "source": [
        "import tensorflow as tf\n",
        "from tensorflow import keras\n",
        "from tensorflow.keras import datasets, layers, models\n",
        "from sklearn.model_selection import train_test_split\n",
        "import matplotlib.pyplot as plt\n",
        "import numpy as np\n",
        "from tensorflow.keras.preprocessing.image import ImageDataGenerator\n",
        "from IPython.display import clear_output\n",
        "import cv2\n",
        "from tensorflow.keras.optimizers import RMSprop\n",
        "from google.colab.patches import cv2_imshow\n",
        "import math"
      ],
      "execution_count": 2,
      "outputs": []
    },
    {
      "cell_type": "code",
      "metadata": {
        "colab": {
          "resources": {
            "http://localhost:8080/nbextensions/google.colab/files.js": {
              "data": "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",
              "ok": true,
              "headers": [
                [
                  "content-type",
                  "application/javascript"
                ]
              ],
              "status": 200,
              "status_text": ""
            }
          },
          "base_uri": "https://localhost:8080/",
          "height": 90
        },
        "id": "yAkLu1SfmL9J",
        "outputId": "915ae050-9025-40bb-8083-fc7bbccc379a"
      },
      "source": [
        "from google.colab import files\n",
        "files.upload()"
      ],
      "execution_count": 3,
      "outputs": [
        {
          "output_type": "display_data",
          "data": {
            "text/html": [
              "\n",
              "     <input type=\"file\" id=\"files-1e83b775-de0a-46d9-b755-931602f3df0a\" name=\"files[]\" multiple disabled\n",
              "        style=\"border:none\" />\n",
              "     <output id=\"result-1e83b775-de0a-46d9-b755-931602f3df0a\">\n",
              "      Upload widget is only available when the cell has been executed in the\n",
              "      current browser session. Please rerun this cell to enable.\n",
              "      </output>\n",
              "      <script src=\"/nbextensions/google.colab/files.js\"></script> "
            ],
            "text/plain": [
              "<IPython.core.display.HTML object>"
            ]
          },
          "metadata": {
            "tags": []
          }
        },
        {
          "output_type": "stream",
          "text": [
            "Saving kaggle.json to kaggle.json\n"
          ],
          "name": "stdout"
        },
        {
          "output_type": "execute_result",
          "data": {
            "text/plain": [
              "{'kaggle.json': b'{\"username\":\"aditiagarwal01\",\"key\":\"4c56849565c39183e765f285aeafe7d3\"}\\n'}"
            ]
          },
          "metadata": {
            "tags": []
          },
          "execution_count": 3
        }
      ]
    },
    {
      "cell_type": "code",
      "metadata": {
        "id": "4ltXdvj3mVIY"
      },
      "source": [
        "! mkdir ~/.kaggle\n",
        "! cp kaggle.json ~/.kaggle/\n",
        "! chmod 600 ~/.kaggle/kaggle.json"
      ],
      "execution_count": 4,
      "outputs": []
    },
    {
      "cell_type": "code",
      "metadata": {
        "colab": {
          "base_uri": "https://localhost:8080/"
        },
        "id": "T0gQkgc8miLa",
        "outputId": "40149f85-bfd0-48de-d38d-8116f8b5b03b"
      },
      "source": [
        "! kaggle datasets download -d mohamedmustafa/real-life-violence-situations-dataset"
      ],
      "execution_count": 5,
      "outputs": [
        {
          "output_type": "stream",
          "text": [
            "Downloading real-life-violence-situations-dataset.zip to /content\n",
            "100% 3.57G/3.58G [01:29<00:00, 33.8MB/s]\n",
            "100% 3.58G/3.58G [01:29<00:00, 42.8MB/s]\n"
          ],
          "name": "stdout"
        }
      ]
    },
    {
      "cell_type": "code",
      "metadata": {
        "id": "T76UmcodoIm4",
        "colab": {
          "base_uri": "https://localhost:8080/"
        },
        "outputId": "26f84015-83f5-4ab0-c141-6680a31c4ac5"
      },
      "source": [
        "!unzip \\*.zip  && rm *.zip\n",
        "clear_output()\n",
        "print(\"Extracted\")"
      ],
      "execution_count": 6,
      "outputs": [
        {
          "output_type": "stream",
          "text": [
            "Extracted\n"
          ],
          "name": "stdout"
        }
      ]
    },
    {
      "cell_type": "code",
      "metadata": {
        "id": "XMhnNE9i5l8s"
      },
      "source": [
        "import os\n",
        "train_folder = 'Directories/training/violent'\n",
        "if not os.path.exists(train_folder):\n",
        "    os.makedirs(train_folder)"
      ],
      "execution_count": 7,
      "outputs": []
    },
    {
      "cell_type": "code",
      "metadata": {
        "colab": {
          "base_uri": "https://localhost:8080/"
        },
        "id": "cOpn_icTw1Lt",
        "outputId": "99364d4f-61a5-4fbc-db79-bc6ea77ac199"
      },
      "source": [
        "# Training Data\n",
        "\n",
        "count = 0\n",
        "for i in range (1,300):\n",
        "    videoFile = f\"/content/real life violence situations/Real Life Violence Dataset/Violence/V_{i}.mp4\"\n",
        "    cap = cv2.VideoCapture(videoFile)   # capturing the video from the given path\n",
        "    print(f\"Processing Violence_{i}\")\n",
        "    while True:\n",
        "        ret, frame = cap.read()\n",
        "        if ret is False:\n",
        "            break\n",
        "        frame = cv2.resize(frame, (64,64))\n",
        "        fname = '%s/%d.jpg' % (train_folder, count)\n",
        "        cv2.imwrite(fname, frame)\n",
        "        count += 1\n",
        "    \n",
        "    cap.release()\n",
        "clear_output()\n",
        "print(\"Done Training with Violence !!\")\n"
      ],
      "execution_count": 8,
      "outputs": [
        {
          "output_type": "stream",
          "text": [
            "Done Training with Violence !!\n"
          ],
          "name": "stdout"
        }
      ]
    },
    {
      "cell_type": "code",
      "metadata": {
        "id": "vxdVjDdA7AdJ"
      },
      "source": [
        "import os\n",
        "test_folder = 'Directories/validation/violent'\n",
        "if not os.path.exists(test_folder):\n",
        "    os.makedirs(test_folder)"
      ],
      "execution_count": 9,
      "outputs": []
    },
    {
      "cell_type": "code",
      "metadata": {
        "colab": {
          "base_uri": "https://localhost:8080/"
        },
        "id": "dhxAyhsJ6uAB",
        "outputId": "d265d84d-53f2-4358-abb0-949ccf80421c"
      },
      "source": [
        "# Testing Data\n",
        "count = 0\n",
        "for i in range (300,400):\n",
        "    videoFile = f\"/content/real life violence situations/Real Life Violence Dataset/Violence/V_{i}.mp4\"\n",
        "    cap = cv2.VideoCapture(videoFile)   # capturing the video from the given path\n",
        "    print(f\"Processing Violence_{i}\")\n",
        "    while True:\n",
        "        ret, frame = cap.read()\n",
        "        if ret is False:\n",
        "            break\n",
        "        frame = cv2.resize(frame, (64,64))\n",
        "        fname = '%s/%d.jpg' % (test_folder, count)\n",
        "        cv2.imwrite(fname, frame)\n",
        "        count += 1\n",
        "    \n",
        "    cap.release()\n",
        "clear_output()\n",
        "print(\"Done Training with Violence !!\")\n"
      ],
      "execution_count": 10,
      "outputs": [
        {
          "output_type": "stream",
          "text": [
            "Done Training with Violence !!\n"
          ],
          "name": "stdout"
        }
      ]
    },
    {
      "cell_type": "code",
      "metadata": {
        "id": "cukhDLj87SPF"
      },
      "source": [
        "import os\n",
        "nv_folder = 'Directories/training/non_violent'\n",
        "if not os.path.exists(nv_folder):\n",
        "    os.makedirs(nv_folder)"
      ],
      "execution_count": 11,
      "outputs": []
    },
    {
      "cell_type": "code",
      "metadata": {
        "colab": {
          "base_uri": "https://localhost:8080/"
        },
        "id": "gHmQnEXSxw9k",
        "outputId": "7b06f5bb-37c8-4e5d-a555-fec34660db98"
      },
      "source": [
        "count = 0\n",
        "for i in range (1,300):\n",
        "    videoFile = f\"/content/real life violence situations/Real Life Violence Dataset/NonViolence/NV_{i}.mp4\"\n",
        "    cap = cv2.VideoCapture(videoFile)   # capturing the video from the given path\n",
        "    print(f\"Reading File NonViolence_{i}\")\n",
        "    while True:\n",
        "        ret, frame = cap.read()\n",
        "        if ret is False:\n",
        "            break\n",
        "\n",
        "        frame = cv2.resize(frame, (64,64))\n",
        "        fname = '%s/%d.jpg' % (nv_folder, count)\n",
        "        cv2.imwrite(fname, frame)\n",
        "        count += 1\n",
        "\n",
        "        count += 1\n",
        "    cap.release()\n",
        "clear_output()\n",
        "print(\"Done Training with Non-Violence !!\")"
      ],
      "execution_count": 12,
      "outputs": [
        {
          "output_type": "stream",
          "text": [
            "Done Training with Non-Violence !!\n"
          ],
          "name": "stdout"
        }
      ]
    },
    {
      "cell_type": "code",
      "metadata": {
        "id": "IO9uqERn7U8a"
      },
      "source": [
        "import os\n",
        "nv_test_folder = 'Directories/validation/non_violent'\n",
        "if not os.path.exists(nv_test_folder):\n",
        "    os.makedirs(nv_test_folder)"
      ],
      "execution_count": 13,
      "outputs": []
    },
    {
      "cell_type": "code",
      "metadata": {
        "colab": {
          "base_uri": "https://localhost:8080/"
        },
        "id": "Je8pMkix7WKe",
        "outputId": "f02f1496-9117-4776-d7f6-42eafcfd6bef"
      },
      "source": [
        "count = 0\n",
        "for i in range (300,400):\n",
        "    videoFile = f\"/content/real life violence situations/Real Life Violence Dataset/NonViolence/NV_{i}.mp4\"\n",
        "    cap = cv2.VideoCapture(videoFile)   # capturing the video from the given path\n",
        "    print(f\"Reading File NonViolence_{i}\")\n",
        "    while True:\n",
        "        ret, frame = cap.read()\n",
        "        if ret is False:\n",
        "            break\n",
        "\n",
        "        frame = cv2.resize(frame, (64,64))\n",
        "        fname = '%s/%d.jpg' % (nv_test_folder, count)\n",
        "        cv2.imwrite(fname, frame)\n",
        "        count += 1\n",
        "\n",
        "        count += 1\n",
        "    cap.release()\n",
        "clear_output()\n",
        "print(\"Done Training with Non-Violence !!\")\n"
      ],
      "execution_count": 14,
      "outputs": [
        {
          "output_type": "stream",
          "text": [
            "Done Training with Non-Violence !!\n"
          ],
          "name": "stdout"
        }
      ]
    },
    {
      "cell_type": "code",
      "metadata": {
        "id": "m2HBuKBHMOTJ"
      },
      "source": [
        "\n",
        "base_dir = './Directories'\n",
        "train_dir = os.path.join(base_dir,'training')\n",
        "validation_dir = os.path.join(base_dir,'validation')"
      ],
      "execution_count": 29,
      "outputs": []
    },
    {
      "cell_type": "code",
      "metadata": {
        "id": "uUl20IHGWBsa"
      },
      "source": [
        "train_violent_dir = os.path.join(train_dir,'violent')\n",
        "train_nonviolent_dir=os.path.join(train_dir,'non_violent')\n",
        "validation_violent_dir=os.path.join(validation_dir,'violent')\n",
        "validation_nonviolent_dir=os.path.join(validation_dir,'non_violent')\n"
      ],
      "execution_count": 30,
      "outputs": []
    },
    {
      "cell_type": "code",
      "metadata": {
        "id": "GndUejjEBI30"
      },
      "source": [
        "train_datagen= ImageDataGenerator(rescale=1./255,rotation_range=40, width_shift_range=0.2, height_shift_range=0.2, shear_range=0.2, horizontal_flip=True, fill_mode='nearest')\n",
        "test_datagen = ImageDataGenerator(rescale =1./255)"
      ],
      "execution_count": 41,
      "outputs": []
    },
    {
      "cell_type": "code",
      "metadata": {
        "colab": {
          "base_uri": "https://localhost:8080/"
        },
        "id": "gBh-0oWIC3Hv",
        "outputId": "de8c80d8-c8d3-4f6f-c967-bbea36082260"
      },
      "source": [
        "train_generator = train_datagen.flow_from_directory(train_dir, target_size = (64,64),batch_size=20, class_mode='binary')"
      ],
      "execution_count": 42,
      "outputs": [
        {
          "output_type": "stream",
          "text": [
            "Found 81349 images belonging to 2 classes.\n"
          ],
          "name": "stdout"
        }
      ]
    },
    {
      "cell_type": "code",
      "metadata": {
        "colab": {
          "base_uri": "https://localhost:8080/"
        },
        "id": "HGy2UI6fZvLf",
        "outputId": "1ae0bb70-4ba8-4943-ffd8-64c27644d3da"
      },
      "source": [
        "validation_generator = test_datagen.flow_from_directory(validation_dir,target_size=(64,64),batch_size=20,class_mode='binary')\n"
      ],
      "execution_count": 43,
      "outputs": [
        {
          "output_type": "stream",
          "text": [
            "Found 28853 images belonging to 2 classes.\n"
          ],
          "name": "stdout"
        }
      ]
    },
    {
      "cell_type": "code",
      "metadata": {
        "id": "jQwhVxvGaxej"
      },
      "source": [
        "model= tf.keras.models.Sequential([\n",
        "       tf.keras.layers.Conv2D(32,(3,3),activation='relu',input_shape=(64,64,3)),\n",
        "       tf.keras.layers.MaxPooling2D(2,2),\n",
        "       tf.keras.layers.Conv2D(64,(3,3),activation='relu'),\n",
        "       tf.keras.layers.MaxPooling2D(2,2),\n",
        "       tf.keras.layers.Conv2D(128,(3,3),activation='relu'),\n",
        "       tf.keras.layers.MaxPooling2D(2,2),\n",
        "       tf.keras.layers.Conv2D(128,(3,3),activation='relu'),\n",
        "       tf.keras.layers.MaxPooling2D(2,2),\n",
        "       tf.keras.layers.Dropout(0.5),\n",
        "       tf.keras.layers.Flatten(),\n",
        "       tf.keras.layers.Dense(512, activation='relu'),\n",
        "       tf.keras.layers.Dense(1,activation ='sigmoid')\n",
        "\n",
        "])"
      ],
      "execution_count": 44,
      "outputs": []
    },
    {
      "cell_type": "code",
      "metadata": {
        "id": "NpeQGki-bPdz"
      },
      "source": [
        "model.compile(loss='binary_crossentropy',optimizer=RMSprop(lr=1e-4),metrics=['accuracy'])\n",
        "\n"
      ],
      "execution_count": 45,
      "outputs": []
    },
    {
      "cell_type": "code",
      "metadata": {
        "colab": {
          "base_uri": "https://localhost:8080/"
        },
        "id": "PI59Z3fYdcAv",
        "outputId": "ee4f13f1-b71d-450d-edb8-afc6f933d0f0"
      },
      "source": [
        "model1= model.fit(train_generator, \n",
        "                  steps_per_epoch=100,\n",
        "                  epochs=20, \n",
        "                  validation_data=validation_generator,\n",
        "                  validation_steps=50,verbose=2)"
      ],
      "execution_count": 46,
      "outputs": [
        {
          "output_type": "stream",
          "text": [
            "Epoch 1/20\n",
            "100/100 - 4s - loss: 0.6635 - accuracy: 0.5990 - val_loss: 0.6506 - val_accuracy: 0.6250\n",
            "Epoch 2/20\n",
            "100/100 - 3s - loss: 0.5954 - accuracy: 0.6770 - val_loss: 0.6815 - val_accuracy: 0.6250\n",
            "Epoch 3/20\n",
            "100/100 - 3s - loss: 0.5674 - accuracy: 0.7025 - val_loss: 0.8717 - val_accuracy: 0.4690\n",
            "Epoch 4/20\n",
            "100/100 - 3s - loss: 0.5072 - accuracy: 0.7570 - val_loss: 1.1673 - val_accuracy: 0.3970\n",
            "Epoch 5/20\n",
            "100/100 - 3s - loss: 0.4864 - accuracy: 0.7580 - val_loss: 0.7109 - val_accuracy: 0.6210\n",
            "Epoch 6/20\n",
            "100/100 - 3s - loss: 0.4704 - accuracy: 0.7645 - val_loss: 1.1030 - val_accuracy: 0.4500\n",
            "Epoch 7/20\n",
            "100/100 - 3s - loss: 0.4338 - accuracy: 0.7915 - val_loss: 0.9029 - val_accuracy: 0.5480\n",
            "Epoch 8/20\n",
            "100/100 - 3s - loss: 0.4301 - accuracy: 0.7880 - val_loss: 0.9314 - val_accuracy: 0.5480\n",
            "Epoch 9/20\n",
            "100/100 - 3s - loss: 0.3937 - accuracy: 0.8215 - val_loss: 0.8372 - val_accuracy: 0.6170\n",
            "Epoch 10/20\n",
            "100/100 - 3s - loss: 0.3987 - accuracy: 0.8145 - val_loss: 0.6599 - val_accuracy: 0.6730\n",
            "Epoch 11/20\n",
            "100/100 - 3s - loss: 0.3896 - accuracy: 0.8240 - val_loss: 0.8041 - val_accuracy: 0.6120\n",
            "Epoch 12/20\n",
            "100/100 - 3s - loss: 0.3842 - accuracy: 0.8295 - val_loss: 1.8368 - val_accuracy: 0.3710\n",
            "Epoch 13/20\n",
            "100/100 - 3s - loss: 0.3734 - accuracy: 0.8295 - val_loss: 0.6897 - val_accuracy: 0.7000\n",
            "Epoch 14/20\n",
            "100/100 - 3s - loss: 0.3693 - accuracy: 0.8405 - val_loss: 1.1323 - val_accuracy: 0.5070\n",
            "Epoch 15/20\n",
            "100/100 - 3s - loss: 0.3590 - accuracy: 0.8470 - val_loss: 1.6967 - val_accuracy: 0.4140\n",
            "Epoch 16/20\n",
            "100/100 - 3s - loss: 0.3389 - accuracy: 0.8510 - val_loss: 0.9274 - val_accuracy: 0.6040\n",
            "Epoch 17/20\n",
            "100/100 - 3s - loss: 0.3476 - accuracy: 0.8435 - val_loss: 1.0072 - val_accuracy: 0.5220\n",
            "Epoch 18/20\n",
            "100/100 - 3s - loss: 0.3443 - accuracy: 0.8495 - val_loss: 0.7746 - val_accuracy: 0.6570\n",
            "Epoch 19/20\n",
            "100/100 - 3s - loss: 0.3216 - accuracy: 0.8585 - val_loss: 0.7373 - val_accuracy: 0.6580\n",
            "Epoch 20/20\n",
            "100/100 - 3s - loss: 0.3192 - accuracy: 0.8540 - val_loss: 0.8580 - val_accuracy: 0.6100\n"
          ],
          "name": "stdout"
        }
      ]
    },
    {
      "cell_type": "code",
      "metadata": {
        "colab": {
          "base_uri": "https://localhost:8080/"
        },
        "id": "RXdehUbrPnuI",
        "outputId": "eaca6822-3bab-4e85-ebec-6653cfec0d67"
      },
      "source": [
        "import time\r\n",
        "t = time.time()\r\n",
        "export_path_keras = \"./{}.h5\".format(int(t))\r\n",
        "print(export_path_keras)\r\n",
        "\r\n",
        "model.save(export_path_keras)"
      ],
      "execution_count": 47,
      "outputs": [
        {
          "output_type": "stream",
          "text": [
            "./1611162302.h5\n"
          ],
          "name": "stdout"
        }
      ]
    }
  ]
}