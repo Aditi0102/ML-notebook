{
  "nbformat": 4,
  "nbformat_minor": 0,
  "metadata": {
    "colab": {
      "name": "AiModel.ipynb",
      "provenance": [],
      "include_colab_link": true
    },
    "kernelspec": {
      "name": "python3",
      "display_name": "Python 3"
    },
    "accelerator": "GPU"
  },
  "cells": [
    {
      "cell_type": "markdown",
      "metadata": {
        "id": "view-in-github",
        "colab_type": "text"
      },
      "source": [
        "<a href=\"https://colab.research.google.com/github/Aditi0102/ML-notebook/blob/main/AiModel1.ipynb\" target=\"_parent\"><img src=\"https://colab.research.google.com/assets/colab-badge.svg\" alt=\"Open In Colab\"/></a>"
      ]
    },
    {
      "cell_type": "code",
      "metadata": {
        "id": "AlJRNQ5bkBFN"
      },
      "source": [
        "! pip install -q kaggle"
      ],
      "execution_count": 5,
      "outputs": []
    },
    {
      "cell_type": "code",
      "metadata": {
        "id": "UMv6e4ksts7i"
      },
      "source": [
        "%tensorflow_version 2.x"
      ],
      "execution_count": 6,
      "outputs": []
    },
    {
      "cell_type": "code",
      "metadata": {
        "id": "NwONeUCXtvOy"
      },
      "source": [
        "import tensorflow as tf\n",
        "from tensorflow import keras\n",
        "from tensorflow.keras import datasets, layers, models\n",
        "from sklearn.model_selection import train_test_split\n",
        "import matplotlib.pyplot as plt\n",
        "import numpy as np\n",
        "from tensorflow.keras.preprocessing.image import ImageDataGenerator\n",
        "from IPython.display import clear_output\n",
        "import cv2\n",
        "from tensorflow.keras.optimizers import RMSprop\n",
        "from google.colab.patches import cv2_imshow\n",
        "import math"
      ],
      "execution_count": 7,
      "outputs": []
    },
    {
      "cell_type": "code",
      "metadata": {
        "colab": {
          "resources": {
            "http://localhost:8080/nbextensions/google.colab/files.js": {
              "data": "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",
              "ok": true,
              "headers": [
                [
                  "content-type",
                  "application/javascript"
                ]
              ],
              "status": 200,
              "status_text": ""
            }
          },
          "base_uri": "https://localhost:8080/",
          "height": 89
        },
        "id": "yAkLu1SfmL9J",
        "outputId": "9d868699-d1b3-4451-e566-6dbab00ac405"
      },
      "source": [
        "from google.colab import files\n",
        "files.upload()"
      ],
      "execution_count": 8,
      "outputs": [
        {
          "output_type": "display_data",
          "data": {
            "text/html": [
              "\n",
              "     <input type=\"file\" id=\"files-907794e4-c590-46c6-a730-bc2acabdaed5\" name=\"files[]\" multiple disabled\n",
              "        style=\"border:none\" />\n",
              "     <output id=\"result-907794e4-c590-46c6-a730-bc2acabdaed5\">\n",
              "      Upload widget is only available when the cell has been executed in the\n",
              "      current browser session. Please rerun this cell to enable.\n",
              "      </output>\n",
              "      <script src=\"/nbextensions/google.colab/files.js\"></script> "
            ],
            "text/plain": [
              "<IPython.core.display.HTML object>"
            ]
          },
          "metadata": {
            "tags": []
          }
        },
        {
          "output_type": "stream",
          "text": [
            "Saving kaggle.json to kaggle.json\n"
          ],
          "name": "stdout"
        },
        {
          "output_type": "execute_result",
          "data": {
            "text/plain": [
              "{'kaggle.json': b'{\"username\":\"aditiagarwal01\",\"key\":\"4c56849565c39183e765f285aeafe7d3\"}\\n'}"
            ]
          },
          "metadata": {
            "tags": []
          },
          "execution_count": 8
        }
      ]
    },
    {
      "cell_type": "code",
      "metadata": {
        "id": "4ltXdvj3mVIY"
      },
      "source": [
        "! mkdir ~/.kaggle\n",
        "! cp kaggle.json ~/.kaggle/\n",
        "! chmod 600 ~/.kaggle/kaggle.json"
      ],
      "execution_count": 9,
      "outputs": []
    },
    {
      "cell_type": "code",
      "metadata": {
        "colab": {
          "base_uri": "https://localhost:8080/"
        },
        "id": "T0gQkgc8miLa",
        "outputId": "72f79ec0-e4b5-457e-8f0c-6e9a7f784fc3"
      },
      "source": [
        "! kaggle datasets download -d mohamedmustafa/real-life-violence-situations-dataset"
      ],
      "execution_count": 10,
      "outputs": [
        {
          "output_type": "stream",
          "text": [
            "Downloading real-life-violence-situations-dataset.zip to /content\n",
            "100% 3.58G/3.58G [01:04<00:00, 19.0MB/s]\n",
            "100% 3.58G/3.58G [01:05<00:00, 59.1MB/s]\n"
          ],
          "name": "stdout"
        }
      ]
    },
    {
      "cell_type": "code",
      "metadata": {
        "id": "T76UmcodoIm4",
        "colab": {
          "base_uri": "https://localhost:8080/"
        },
        "outputId": "72763e54-be77-4a17-c5ee-a041bd578e34"
      },
      "source": [
        "!unzip \\*.zip  && rm *.zip\n",
        "clear_output()\n",
        "print(\"Extracted\")"
      ],
      "execution_count": 11,
      "outputs": [
        {
          "output_type": "stream",
          "text": [
            "Extracted\n"
          ],
          "name": "stdout"
        }
      ]
    },
    {
      "cell_type": "code",
      "metadata": {
        "id": "XMhnNE9i5l8s"
      },
      "source": [
        "import os\n",
        "train_folder = 'Directories/training/violent'\n",
        "if not os.path.exists(train_folder):\n",
        "    os.makedirs(train_folder)"
      ],
      "execution_count": 12,
      "outputs": []
    },
    {
      "cell_type": "code",
      "metadata": {
        "colab": {
          "base_uri": "https://localhost:8080/"
        },
        "id": "cOpn_icTw1Lt",
        "outputId": "e5b641fc-e085-4fb0-c389-0bcfb18fe750"
      },
      "source": [
        "# Training Data\n",
        "\n",
        "count = 0\n",
        "for i in range (1,800):\n",
        "    videoFile = f\"/content/real life violence situations/Real Life Violence Dataset/Violence/V_{i}.mp4\"\n",
        "    cap = cv2.VideoCapture(videoFile)   # capturing the video from the given path\n",
        "    print(f\"Processing Violence_{i}\")\n",
        "    while True:\n",
        "        ret, frame = cap.read()\n",
        "        if ret is False:\n",
        "            break\n",
        "        frame = cv2.resize(frame, (150,150))\n",
        "        fname = '%s/%d.jpg' % (train_folder, count)\n",
        "        cv2.imwrite(fname, frame)\n",
        "        count += 1\n",
        "    \n",
        "    cap.release()\n",
        "clear_output()\n",
        "print(\"Done Training with Violence !!\")\n"
      ],
      "execution_count": 13,
      "outputs": [
        {
          "output_type": "stream",
          "text": [
            "Done Training with Violence !!\n"
          ],
          "name": "stdout"
        }
      ]
    },
    {
      "cell_type": "code",
      "metadata": {
        "id": "vxdVjDdA7AdJ"
      },
      "source": [
        "import os\n",
        "test_folder = 'Directories/validation/violent'\n",
        "if not os.path.exists(test_folder):\n",
        "    os.makedirs(test_folder)"
      ],
      "execution_count": 14,
      "outputs": []
    },
    {
      "cell_type": "code",
      "metadata": {
        "colab": {
          "base_uri": "https://localhost:8080/"
        },
        "id": "dhxAyhsJ6uAB",
        "outputId": "9c3806e4-ed16-4e9c-ab47-afc1dc5c281e"
      },
      "source": [
        "# Testing Data\n",
        "count = 0\n",
        "for i in range (800,1000):\n",
        "    videoFile = f\"/content/real life violence situations/Real Life Violence Dataset/Violence/V_{i}.mp4\"\n",
        "    cap = cv2.VideoCapture(videoFile)   # capturing the video from the given path\n",
        "    print(f\"Processing Violence_{i}\")\n",
        "    while True:\n",
        "        ret, frame = cap.read()\n",
        "        if ret is False:\n",
        "            break\n",
        "        frame = cv2.resize(frame, (150,150))\n",
        "        fname = '%s/%d.jpg' % (test_folder, count)\n",
        "        cv2.imwrite(fname, frame)\n",
        "        count += 1\n",
        "    \n",
        "    cap.release()\n",
        "clear_output()\n",
        "print(\"Done Training with Violence !!\")\n"
      ],
      "execution_count": 15,
      "outputs": [
        {
          "output_type": "stream",
          "text": [
            "Done Training with Violence !!\n"
          ],
          "name": "stdout"
        }
      ]
    },
    {
      "cell_type": "code",
      "metadata": {
        "id": "cukhDLj87SPF"
      },
      "source": [
        "import os\n",
        "nv_folder = 'Directories/training/non_violent'\n",
        "if not os.path.exists(nv_folder):\n",
        "    os.makedirs(nv_folder)"
      ],
      "execution_count": 16,
      "outputs": []
    },
    {
      "cell_type": "code",
      "metadata": {
        "colab": {
          "base_uri": "https://localhost:8080/"
        },
        "id": "gHmQnEXSxw9k",
        "outputId": "d967f697-eb79-43ea-ee11-48ac383719e8"
      },
      "source": [
        "count = 0\n",
        "for i in range (1,800):\n",
        "    videoFile = f\"/content/real life violence situations/Real Life Violence Dataset/NonViolence/NV_{i}.mp4\"\n",
        "    cap = cv2.VideoCapture(videoFile)   # capturing the video from the given path\n",
        "    print(f\"Reading File NonViolence_{i}\")\n",
        "    while True:\n",
        "        ret, frame = cap.read()\n",
        "        if ret is False:\n",
        "            break\n",
        "\n",
        "        frame = cv2.resize(frame, (150,150))\n",
        "        fname = '%s/%d.jpg' % (nv_folder, count)\n",
        "        cv2.imwrite(fname, frame)\n",
        "        count += 1\n",
        "\n",
        "        count += 1\n",
        "    cap.release()\n",
        "clear_output()\n",
        "print(\"Done Training with Non-Violence !!\")"
      ],
      "execution_count": 17,
      "outputs": [
        {
          "output_type": "stream",
          "text": [
            "Done Training with Non-Violence !!\n"
          ],
          "name": "stdout"
        }
      ]
    },
    {
      "cell_type": "code",
      "metadata": {
        "id": "IO9uqERn7U8a"
      },
      "source": [
        "import os\n",
        "nv_test_folder = 'Directories/validation/non_violent'\n",
        "if not os.path.exists(nv_test_folder):\n",
        "    os.makedirs(nv_test_folder)"
      ],
      "execution_count": 18,
      "outputs": []
    },
    {
      "cell_type": "code",
      "metadata": {
        "colab": {
          "base_uri": "https://localhost:8080/"
        },
        "id": "Je8pMkix7WKe",
        "outputId": "94177c69-0642-4621-e526-f988abbcb89c"
      },
      "source": [
        "count = 0\n",
        "for i in range (800,1000):\n",
        "    videoFile = f\"/content/real life violence situations/Real Life Violence Dataset/NonViolence/NV_{i}.mp4\"\n",
        "    cap = cv2.VideoCapture(videoFile)   # capturing the video from the given path\n",
        "    print(f\"Reading File NonViolence_{i}\")\n",
        "    while True:\n",
        "        ret, frame = cap.read()\n",
        "        if ret is False:\n",
        "            break\n",
        "\n",
        "        frame = cv2.resize(frame, (150,150))\n",
        "        fname = '%s/%d.jpg' % (nv_test_folder, count)\n",
        "        cv2.imwrite(fname, frame)\n",
        "        count += 1\n",
        "\n",
        "        count += 1\n",
        "    cap.release()\n",
        "clear_output()\n",
        "print(\"Done Training with Non-Violence !!\")\n"
      ],
      "execution_count": 19,
      "outputs": [
        {
          "output_type": "stream",
          "text": [
            "Done Training with Non-Violence !!\n"
          ],
          "name": "stdout"
        }
      ]
    },
    {
      "cell_type": "code",
      "metadata": {
        "id": "m2HBuKBHMOTJ"
      },
      "source": [
        "base_dir = './Directories'\n",
        "train_dir = os.path.join(base_dir,'training')\n",
        "validation_dir = os.path.join(base_dir,'validation')"
      ],
      "execution_count": 20,
      "outputs": []
    },
    {
      "cell_type": "code",
      "metadata": {
        "id": "uUl20IHGWBsa"
      },
      "source": [
        "train_violent_dir = os.path.join(train_dir,'violent')\n",
        "train_nonviolent_dir=os.path.join(train_dir,'non_violent')\n",
        "validation_violent_dir=os.path.join(validation_dir,'violent')\n",
        "validation_nonviolent_dir=os.path.join(validation_dir,'non_violent')"
      ],
      "execution_count": 21,
      "outputs": []
    },
    {
      "cell_type": "code",
      "metadata": {
        "id": "GndUejjEBI30"
      },
      "source": [
        "train_datagen= ImageDataGenerator(rescale=1./255,rotation_range=40, width_shift_range=0.2, height_shift_range=0.2, shear_range=0.2, horizontal_flip=True, fill_mode='nearest')\n",
        "test_datagen = ImageDataGenerator(rescale =1./255)"
      ],
      "execution_count": 22,
      "outputs": []
    },
    {
      "cell_type": "code",
      "metadata": {
        "colab": {
          "base_uri": "https://localhost:8080/"
        },
        "id": "gBh-0oWIC3Hv",
        "outputId": "e9bdc0ed-b8aa-4afd-95d5-5da258cd6f3b"
      },
      "source": [
        "train_generator = train_datagen.flow_from_directory(train_dir,color_mode=\"rgb\", target_size = (150,150),batch_size=20, class_mode='binary', shuffle=True)"
      ],
      "execution_count": 23,
      "outputs": [
        {
          "output_type": "stream",
          "text": [
            "Found 226270 images belonging to 2 classes.\n"
          ],
          "name": "stdout"
        }
      ]
    },
    {
      "cell_type": "code",
      "metadata": {
        "colab": {
          "base_uri": "https://localhost:8080/"
        },
        "id": "HGy2UI6fZvLf",
        "outputId": "0d076f30-0be4-4ec9-a3f1-06d9ce1dc93d"
      },
      "source": [
        "validation_generator = test_datagen.flow_from_directory(validation_dir,color_mode=\"rgb\",target_size=(150,150),batch_size=20,class_mode='binary', shuffle=True)\n"
      ],
      "execution_count": 24,
      "outputs": [
        {
          "output_type": "stream",
          "text": [
            "Found 54195 images belonging to 2 classes.\n"
          ],
          "name": "stdout"
        }
      ]
    },
    {
      "cell_type": "code",
      "metadata": {
        "id": "jQwhVxvGaxej"
      },
      "source": [
        "model= tf.keras.models.Sequential([\n",
        "       tf.keras.layers.Conv2D(32,(3,3),activation='relu',input_shape=(150,150,3)),\n",
        "       tf.keras.layers.MaxPooling2D(2,2),\n",
        "       tf.keras.layers.Conv2D(64,(3,3),activation='relu'),\n",
        "       tf.keras.layers.MaxPooling2D(2,2),\n",
        "       tf.keras.layers.Conv2D(128,(3,3),activation='relu'),\n",
        "       tf.keras.layers.MaxPooling2D(2,2),\n",
        "       tf.keras.layers.Conv2D(128,(3,3),activation='relu'),\n",
        "       tf.keras.layers.MaxPooling2D(2,2),\n",
        "       tf.keras.layers.Dropout(0.5),\n",
        "       tf.keras.layers.Flatten(),\n",
        "       tf.keras.layers.Dense(512, activation='relu'),\n",
        "       tf.keras.layers.Dense(1,activation ='sigmoid')\n",
        "\n",
        "])"
      ],
      "execution_count": 25,
      "outputs": []
    },
    {
      "cell_type": "code",
      "metadata": {
        "id": "NpeQGki-bPdz"
      },
      "source": [
        "model.compile(loss='binary_crossentropy',optimizer='adam',metrics=['accuracy'])"
      ],
      "execution_count": 26,
      "outputs": []
    },
    {
      "cell_type": "code",
      "metadata": {
        "colab": {
          "base_uri": "https://localhost:8080/"
        },
        "id": "PI59Z3fYdcAv",
        "outputId": "386a9c92-c460-47e8-c683-4e32e00a7c5b"
      },
      "source": [
        "model1= model.fit(train_generator, \n",
        "                  steps_per_epoch=100,\n",
        "                  epochs=100, \n",
        "                  validation_data=validation_generator,\n",
        "                  validation_steps=50,verbose=2)"
      ],
      "execution_count": 27,
      "outputs": [
        {
          "output_type": "stream",
          "text": [
            "Epoch 1/100\n",
            "100/100 - 22s - loss: 0.6456 - accuracy: 0.6070 - val_loss: 0.8984 - val_accuracy: 0.5240\n",
            "Epoch 2/100\n",
            "100/100 - 15s - loss: 0.6248 - accuracy: 0.5965 - val_loss: 0.7760 - val_accuracy: 0.4850\n",
            "Epoch 3/100\n",
            "100/100 - 15s - loss: 0.6088 - accuracy: 0.6430 - val_loss: 0.7950 - val_accuracy: 0.4210\n",
            "Epoch 4/100\n",
            "100/100 - 15s - loss: 0.6089 - accuracy: 0.6385 - val_loss: 0.7894 - val_accuracy: 0.5420\n",
            "Epoch 5/100\n",
            "100/100 - 15s - loss: 0.6003 - accuracy: 0.6320 - val_loss: 0.8030 - val_accuracy: 0.4840\n",
            "Epoch 6/100\n",
            "100/100 - 15s - loss: 0.5769 - accuracy: 0.6650 - val_loss: 0.8060 - val_accuracy: 0.5560\n",
            "Epoch 7/100\n",
            "100/100 - 15s - loss: 0.5804 - accuracy: 0.6625 - val_loss: 0.8247 - val_accuracy: 0.5370\n",
            "Epoch 8/100\n",
            "100/100 - 15s - loss: 0.5812 - accuracy: 0.6540 - val_loss: 0.7922 - val_accuracy: 0.5390\n",
            "Epoch 9/100\n",
            "100/100 - 15s - loss: 0.5713 - accuracy: 0.6615 - val_loss: 0.7780 - val_accuracy: 0.5300\n",
            "Epoch 10/100\n",
            "100/100 - 15s - loss: 0.5712 - accuracy: 0.6670 - val_loss: 0.9755 - val_accuracy: 0.4880\n",
            "Epoch 11/100\n",
            "100/100 - 15s - loss: 0.5630 - accuracy: 0.6795 - val_loss: 0.9249 - val_accuracy: 0.5420\n",
            "Epoch 12/100\n",
            "100/100 - 15s - loss: 0.5415 - accuracy: 0.6885 - val_loss: 0.7607 - val_accuracy: 0.4850\n",
            "Epoch 13/100\n",
            "100/100 - 15s - loss: 0.5696 - accuracy: 0.6720 - val_loss: 1.0088 - val_accuracy: 0.4910\n",
            "Epoch 14/100\n",
            "100/100 - 15s - loss: 0.5649 - accuracy: 0.6765 - val_loss: 0.8039 - val_accuracy: 0.4990\n",
            "Epoch 15/100\n",
            "100/100 - 15s - loss: 0.5590 - accuracy: 0.6885 - val_loss: 1.4211 - val_accuracy: 0.5420\n",
            "Epoch 16/100\n",
            "100/100 - 15s - loss: 0.5544 - accuracy: 0.6855 - val_loss: 1.0408 - val_accuracy: 0.5390\n",
            "Epoch 17/100\n",
            "100/100 - 15s - loss: 0.5500 - accuracy: 0.6915 - val_loss: 0.8201 - val_accuracy: 0.5370\n",
            "Epoch 18/100\n",
            "100/100 - 15s - loss: 0.5363 - accuracy: 0.7150 - val_loss: 1.2643 - val_accuracy: 0.5350\n",
            "Epoch 19/100\n",
            "100/100 - 15s - loss: 0.5385 - accuracy: 0.7110 - val_loss: 0.8210 - val_accuracy: 0.5000\n",
            "Epoch 20/100\n",
            "100/100 - 15s - loss: 0.5192 - accuracy: 0.7115 - val_loss: 0.9500 - val_accuracy: 0.5050\n",
            "Epoch 21/100\n",
            "100/100 - 15s - loss: 0.5192 - accuracy: 0.7240 - val_loss: 1.0114 - val_accuracy: 0.5120\n",
            "Epoch 22/100\n",
            "100/100 - 15s - loss: 0.5180 - accuracy: 0.7240 - val_loss: 0.8158 - val_accuracy: 0.5270\n",
            "Epoch 23/100\n",
            "100/100 - 15s - loss: 0.4854 - accuracy: 0.7515 - val_loss: 0.8274 - val_accuracy: 0.5350\n",
            "Epoch 24/100\n",
            "100/100 - 15s - loss: 0.5144 - accuracy: 0.7445 - val_loss: 0.7785 - val_accuracy: 0.5130\n",
            "Epoch 25/100\n",
            "100/100 - 15s - loss: 0.4722 - accuracy: 0.7710 - val_loss: 0.7246 - val_accuracy: 0.5990\n",
            "Epoch 26/100\n",
            "100/100 - 15s - loss: 0.4460 - accuracy: 0.7910 - val_loss: 0.7444 - val_accuracy: 0.5950\n",
            "Epoch 27/100\n",
            "100/100 - 15s - loss: 0.4495 - accuracy: 0.7860 - val_loss: 0.9053 - val_accuracy: 0.5760\n",
            "Epoch 28/100\n",
            "100/100 - 15s - loss: 0.4506 - accuracy: 0.7870 - val_loss: 0.7097 - val_accuracy: 0.6780\n",
            "Epoch 29/100\n",
            "100/100 - 15s - loss: 0.4422 - accuracy: 0.8010 - val_loss: 0.7824 - val_accuracy: 0.6400\n",
            "Epoch 30/100\n",
            "100/100 - 15s - loss: 0.4468 - accuracy: 0.7885 - val_loss: 0.8561 - val_accuracy: 0.6000\n",
            "Epoch 31/100\n",
            "100/100 - 15s - loss: 0.4282 - accuracy: 0.8030 - val_loss: 0.9326 - val_accuracy: 0.5830\n",
            "Epoch 32/100\n",
            "100/100 - 15s - loss: 0.4193 - accuracy: 0.8100 - val_loss: 0.7779 - val_accuracy: 0.6080\n",
            "Epoch 33/100\n",
            "100/100 - 15s - loss: 0.4147 - accuracy: 0.8005 - val_loss: 0.9121 - val_accuracy: 0.5690\n",
            "Epoch 34/100\n",
            "100/100 - 15s - loss: 0.3766 - accuracy: 0.8280 - val_loss: 1.2688 - val_accuracy: 0.5500\n",
            "Epoch 35/100\n",
            "100/100 - 15s - loss: 0.4011 - accuracy: 0.8155 - val_loss: 0.7998 - val_accuracy: 0.7010\n",
            "Epoch 36/100\n",
            "100/100 - 15s - loss: 0.4125 - accuracy: 0.8185 - val_loss: 0.6510 - val_accuracy: 0.7300\n",
            "Epoch 37/100\n",
            "100/100 - 15s - loss: 0.3687 - accuracy: 0.8320 - val_loss: 1.9677 - val_accuracy: 0.5220\n",
            "Epoch 38/100\n",
            "100/100 - 15s - loss: 0.4053 - accuracy: 0.8235 - val_loss: 0.7665 - val_accuracy: 0.6430\n",
            "Epoch 39/100\n",
            "100/100 - 15s - loss: 0.3620 - accuracy: 0.8370 - val_loss: 1.2405 - val_accuracy: 0.5650\n",
            "Epoch 40/100\n",
            "100/100 - 15s - loss: 0.3666 - accuracy: 0.8320 - val_loss: 1.0139 - val_accuracy: 0.6440\n",
            "Epoch 41/100\n",
            "100/100 - 15s - loss: 0.3632 - accuracy: 0.8390 - val_loss: 0.8039 - val_accuracy: 0.6300\n",
            "Epoch 42/100\n",
            "100/100 - 15s - loss: 0.3710 - accuracy: 0.8320 - val_loss: 0.7429 - val_accuracy: 0.6250\n",
            "Epoch 43/100\n",
            "100/100 - 15s - loss: 0.3253 - accuracy: 0.8510 - val_loss: 1.3937 - val_accuracy: 0.5310\n",
            "Epoch 44/100\n",
            "100/100 - 15s - loss: 0.3659 - accuracy: 0.8335 - val_loss: 0.9972 - val_accuracy: 0.5700\n",
            "Epoch 45/100\n",
            "100/100 - 15s - loss: 0.3370 - accuracy: 0.8610 - val_loss: 1.1909 - val_accuracy: 0.5930\n",
            "Epoch 46/100\n",
            "100/100 - 15s - loss: 0.3354 - accuracy: 0.8535 - val_loss: 1.0263 - val_accuracy: 0.5970\n",
            "Epoch 47/100\n",
            "100/100 - 15s - loss: 0.3498 - accuracy: 0.8435 - val_loss: 1.2201 - val_accuracy: 0.6300\n",
            "Epoch 48/100\n",
            "100/100 - 15s - loss: 0.3552 - accuracy: 0.8420 - val_loss: 0.8945 - val_accuracy: 0.6370\n",
            "Epoch 49/100\n",
            "100/100 - 15s - loss: 0.3379 - accuracy: 0.8545 - val_loss: 0.8633 - val_accuracy: 0.6230\n",
            "Epoch 50/100\n",
            "100/100 - 15s - loss: 0.3330 - accuracy: 0.8620 - val_loss: 0.8546 - val_accuracy: 0.6090\n",
            "Epoch 51/100\n",
            "100/100 - 15s - loss: 0.3382 - accuracy: 0.8530 - val_loss: 0.7589 - val_accuracy: 0.6320\n",
            "Epoch 52/100\n",
            "100/100 - 15s - loss: 0.3071 - accuracy: 0.8645 - val_loss: 0.9499 - val_accuracy: 0.6280\n",
            "Epoch 53/100\n",
            "100/100 - 15s - loss: 0.3021 - accuracy: 0.8750 - val_loss: 0.8047 - val_accuracy: 0.6990\n",
            "Epoch 54/100\n",
            "100/100 - 15s - loss: 0.3252 - accuracy: 0.8550 - val_loss: 1.0313 - val_accuracy: 0.5790\n",
            "Epoch 55/100\n",
            "100/100 - 15s - loss: 0.3084 - accuracy: 0.8645 - val_loss: 0.9545 - val_accuracy: 0.6010\n",
            "Epoch 56/100\n",
            "100/100 - 15s - loss: 0.3182 - accuracy: 0.8635 - val_loss: 1.0710 - val_accuracy: 0.5990\n",
            "Epoch 57/100\n",
            "100/100 - 15s - loss: 0.3062 - accuracy: 0.8605 - val_loss: 0.8104 - val_accuracy: 0.6180\n",
            "Epoch 58/100\n",
            "100/100 - 15s - loss: 0.3146 - accuracy: 0.8615 - val_loss: 1.2644 - val_accuracy: 0.5990\n",
            "Epoch 59/100\n",
            "100/100 - 15s - loss: 0.3251 - accuracy: 0.8650 - val_loss: 1.0718 - val_accuracy: 0.5790\n",
            "Epoch 60/100\n",
            "100/100 - 15s - loss: 0.2786 - accuracy: 0.8850 - val_loss: 1.7280 - val_accuracy: 0.5510\n",
            "Epoch 61/100\n",
            "100/100 - 15s - loss: 0.2850 - accuracy: 0.8810 - val_loss: 0.9322 - val_accuracy: 0.6250\n",
            "Epoch 62/100\n",
            "100/100 - 15s - loss: 0.3140 - accuracy: 0.8665 - val_loss: 0.8232 - val_accuracy: 0.6040\n",
            "Epoch 63/100\n",
            "100/100 - 15s - loss: 0.3001 - accuracy: 0.8690 - val_loss: 0.9957 - val_accuracy: 0.6200\n",
            "Epoch 64/100\n",
            "100/100 - 15s - loss: 0.2763 - accuracy: 0.8855 - val_loss: 0.8443 - val_accuracy: 0.6960\n",
            "Epoch 65/100\n",
            "100/100 - 15s - loss: 0.2940 - accuracy: 0.8760 - val_loss: 0.8164 - val_accuracy: 0.6480\n",
            "Epoch 66/100\n",
            "100/100 - 15s - loss: 0.2961 - accuracy: 0.8700 - val_loss: 0.8788 - val_accuracy: 0.6640\n",
            "Epoch 67/100\n",
            "100/100 - 15s - loss: 0.3042 - accuracy: 0.8735 - val_loss: 0.9791 - val_accuracy: 0.5940\n",
            "Epoch 68/100\n",
            "100/100 - 15s - loss: 0.3003 - accuracy: 0.8780 - val_loss: 0.9108 - val_accuracy: 0.6030\n",
            "Epoch 69/100\n",
            "100/100 - 15s - loss: 0.2957 - accuracy: 0.8800 - val_loss: 0.8522 - val_accuracy: 0.6610\n",
            "Epoch 70/100\n",
            "100/100 - 15s - loss: 0.2948 - accuracy: 0.8805 - val_loss: 1.0508 - val_accuracy: 0.6460\n",
            "Epoch 71/100\n",
            "100/100 - 15s - loss: 0.2916 - accuracy: 0.8760 - val_loss: 0.8741 - val_accuracy: 0.6540\n",
            "Epoch 72/100\n",
            "100/100 - 15s - loss: 0.2970 - accuracy: 0.8745 - val_loss: 1.0795 - val_accuracy: 0.6230\n",
            "Epoch 73/100\n",
            "100/100 - 15s - loss: 0.2837 - accuracy: 0.8880 - val_loss: 0.7800 - val_accuracy: 0.6530\n",
            "Epoch 74/100\n",
            "100/100 - 15s - loss: 0.2823 - accuracy: 0.8855 - val_loss: 0.7185 - val_accuracy: 0.7010\n",
            "Epoch 75/100\n",
            "100/100 - 15s - loss: 0.2607 - accuracy: 0.8920 - val_loss: 1.1175 - val_accuracy: 0.6250\n",
            "Epoch 76/100\n",
            "100/100 - 15s - loss: 0.3036 - accuracy: 0.8670 - val_loss: 0.7384 - val_accuracy: 0.6830\n",
            "Epoch 77/100\n",
            "100/100 - 15s - loss: 0.2624 - accuracy: 0.8880 - val_loss: 0.8974 - val_accuracy: 0.6730\n",
            "Epoch 78/100\n",
            "100/100 - 15s - loss: 0.2661 - accuracy: 0.8815 - val_loss: 1.0257 - val_accuracy: 0.6180\n",
            "Epoch 79/100\n",
            "100/100 - 15s - loss: 0.2487 - accuracy: 0.9015 - val_loss: 1.3106 - val_accuracy: 0.5670\n",
            "Epoch 80/100\n",
            "100/100 - 15s - loss: 0.2652 - accuracy: 0.8860 - val_loss: 1.3471 - val_accuracy: 0.6010\n",
            "Epoch 81/100\n",
            "100/100 - 15s - loss: 0.2769 - accuracy: 0.8785 - val_loss: 1.2459 - val_accuracy: 0.6070\n",
            "Epoch 82/100\n",
            "100/100 - 15s - loss: 0.2642 - accuracy: 0.8880 - val_loss: 0.7930 - val_accuracy: 0.6560\n",
            "Epoch 83/100\n",
            "100/100 - 15s - loss: 0.2587 - accuracy: 0.8975 - val_loss: 1.3420 - val_accuracy: 0.5890\n",
            "Epoch 84/100\n",
            "100/100 - 15s - loss: 0.2363 - accuracy: 0.9020 - val_loss: 1.3669 - val_accuracy: 0.6480\n",
            "Epoch 85/100\n",
            "100/100 - 15s - loss: 0.2504 - accuracy: 0.8940 - val_loss: 0.7705 - val_accuracy: 0.7100\n",
            "Epoch 86/100\n",
            "100/100 - 15s - loss: 0.2649 - accuracy: 0.8890 - val_loss: 1.4116 - val_accuracy: 0.6390\n",
            "Epoch 87/100\n",
            "100/100 - 15s - loss: 0.2747 - accuracy: 0.8805 - val_loss: 1.0110 - val_accuracy: 0.6180\n",
            "Epoch 88/100\n",
            "100/100 - 15s - loss: 0.2380 - accuracy: 0.9000 - val_loss: 0.9966 - val_accuracy: 0.6180\n",
            "Epoch 89/100\n",
            "100/100 - 15s - loss: 0.2576 - accuracy: 0.8930 - val_loss: 1.0348 - val_accuracy: 0.6590\n",
            "Epoch 90/100\n",
            "100/100 - 15s - loss: 0.2407 - accuracy: 0.9015 - val_loss: 1.6079 - val_accuracy: 0.6320\n",
            "Epoch 91/100\n",
            "100/100 - 15s - loss: 0.2463 - accuracy: 0.9035 - val_loss: 0.9694 - val_accuracy: 0.6280\n",
            "Epoch 92/100\n",
            "100/100 - 15s - loss: 0.2153 - accuracy: 0.9155 - val_loss: 1.0993 - val_accuracy: 0.6520\n",
            "Epoch 93/100\n",
            "100/100 - 15s - loss: 0.2300 - accuracy: 0.9005 - val_loss: 0.9151 - val_accuracy: 0.6880\n",
            "Epoch 94/100\n",
            "100/100 - 15s - loss: 0.2453 - accuracy: 0.8955 - val_loss: 0.7634 - val_accuracy: 0.7340\n",
            "Epoch 95/100\n",
            "100/100 - 15s - loss: 0.2278 - accuracy: 0.8995 - val_loss: 1.1403 - val_accuracy: 0.6370\n",
            "Epoch 96/100\n",
            "100/100 - 15s - loss: 0.2357 - accuracy: 0.9045 - val_loss: 0.6478 - val_accuracy: 0.7090\n",
            "Epoch 97/100\n",
            "100/100 - 15s - loss: 0.2111 - accuracy: 0.9155 - val_loss: 1.3272 - val_accuracy: 0.6530\n",
            "Epoch 98/100\n",
            "100/100 - 15s - loss: 0.2410 - accuracy: 0.8980 - val_loss: 0.9208 - val_accuracy: 0.7390\n",
            "Epoch 99/100\n",
            "100/100 - 15s - loss: 0.2244 - accuracy: 0.9035 - val_loss: 0.9298 - val_accuracy: 0.6390\n",
            "Epoch 100/100\n",
            "100/100 - 15s - loss: 0.2421 - accuracy: 0.8960 - val_loss: 0.8411 - val_accuracy: 0.6350\n"
          ],
          "name": "stdout"
        }
      ]
    },
    {
      "cell_type": "code",
      "metadata": {
        "colab": {
          "base_uri": "https://localhost:8080/"
        },
        "id": "RXdehUbrPnuI",
        "outputId": "2e012e49-21b9-443c-fa65-ddcddc325f8b"
      },
      "source": [
        "import time\r\n",
        "t = time.time()\r\n",
        "export_path_keras = \"./{}.h5\".format(int(t))\r\n",
        "print(export_path_keras)\r\n",
        "\r\n",
        "model.save(export_path_keras)"
      ],
      "execution_count": 28,
      "outputs": [
        {
          "output_type": "stream",
          "text": [
            "./1611330564.h5\n"
          ],
          "name": "stdout"
        }
      ]
    },
    {
      "cell_type": "code",
      "metadata": {
        "id": "FGmG9ziTyRpY"
      },
      "source": [
        ""
      ],
      "execution_count": null,
      "outputs": []
    }
  ]
}